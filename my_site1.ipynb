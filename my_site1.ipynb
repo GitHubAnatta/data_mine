{
 "metadata": {
  "name": "",
  "signature": "sha256:bfd6f763d1219f9c797b0cebbc650a910f8f473d503f8b5d3471918f2c1d7277"
 },
 "nbformat": 3,
 "nbformat_minor": 0,
 "worksheets": [
  {
   "cells": [
    {
     "cell_type": "code",
     "collapsed": false,
     "input": [
      "import pandas as pd\n",
      "import matplotlib.pyplot as plt\n",
      "%pylab inline\n",
      "%cd \"C:\\Users\\eshatiw\\Documents\\IPython Notebooks\\a\""
     ],
     "language": "python",
     "metadata": {},
     "outputs": [
      {
       "output_type": "stream",
       "stream": "stdout",
       "text": [
        "Populating the interactive namespace from numpy and matplotlib\n",
        "C:\\Users\\eshatiw\\Documents\\IPython Notebooks\\a\n"
       ]
      }
     ],
     "prompt_number": 51
    },
    {
     "cell_type": "code",
     "collapsed": false,
     "input": [
      "headers = [\"year\", \"visitors\"]\n",
      "v = pd.read_csv(\"visitors.csv\", skiprows = 5, names = headers)\n",
      "v.head()"
     ],
     "language": "python",
     "metadata": {},
     "outputs": [
      {
       "html": [
        "<div style=\"max-height:1000px;max-width:1500px;overflow:auto;\">\n",
        "<table border=\"1\" class=\"dataframe\">\n",
        "  <thead>\n",
        "    <tr style=\"text-align: right;\">\n",
        "      <th></th>\n",
        "      <th>year</th>\n",
        "      <th>visitors</th>\n",
        "    </tr>\n",
        "  </thead>\n",
        "  <tbody>\n",
        "    <tr>\n",
        "      <th>0</th>\n",
        "      <td> 2015-02-09</td>\n",
        "      <td> 59</td>\n",
        "    </tr>\n",
        "    <tr>\n",
        "      <th>1</th>\n",
        "      <td> 2015-02-08</td>\n",
        "      <td> 79</td>\n",
        "    </tr>\n",
        "    <tr>\n",
        "      <th>2</th>\n",
        "      <td> 2015-02-07</td>\n",
        "      <td> 73</td>\n",
        "    </tr>\n",
        "    <tr>\n",
        "      <th>3</th>\n",
        "      <td> 2015-02-06</td>\n",
        "      <td> 89</td>\n",
        "    </tr>\n",
        "    <tr>\n",
        "      <th>4</th>\n",
        "      <td> 2015-02-05</td>\n",
        "      <td> 80</td>\n",
        "    </tr>\n",
        "  </tbody>\n",
        "</table>\n",
        "</div>"
       ],
       "metadata": {},
       "output_type": "pyout",
       "prompt_number": 52,
       "text": [
        "         year  visitors\n",
        "0  2015-02-09        59\n",
        "1  2015-02-08        79\n",
        "2  2015-02-07        73\n",
        "3  2015-02-06        89\n",
        "4  2015-02-05        80"
       ]
      }
     ],
     "prompt_number": 52
    },
    {
     "cell_type": "code",
     "collapsed": false,
     "input": [
      "headers2 = [\"year\", \"visitors_new\"]\n",
      "v1 = pd.read_csv(\"visitors-new.csv\", skiprows = 5, names = headers2)\n",
      "v1.head()"
     ],
     "language": "python",
     "metadata": {},
     "outputs": [
      {
       "html": [
        "<div style=\"max-height:1000px;max-width:1500px;overflow:auto;\">\n",
        "<table border=\"1\" class=\"dataframe\">\n",
        "  <thead>\n",
        "    <tr style=\"text-align: right;\">\n",
        "      <th></th>\n",
        "      <th>year</th>\n",
        "      <th>visitors_new</th>\n",
        "    </tr>\n",
        "  </thead>\n",
        "  <tbody>\n",
        "    <tr>\n",
        "      <th>0</th>\n",
        "      <td> 2015-02-09</td>\n",
        "      <td> 55</td>\n",
        "    </tr>\n",
        "    <tr>\n",
        "      <th>1</th>\n",
        "      <td> 2015-02-08</td>\n",
        "      <td> 64</td>\n",
        "    </tr>\n",
        "    <tr>\n",
        "      <th>2</th>\n",
        "      <td> 2015-02-07</td>\n",
        "      <td> 61</td>\n",
        "    </tr>\n",
        "    <tr>\n",
        "      <th>3</th>\n",
        "      <td> 2015-02-06</td>\n",
        "      <td> 79</td>\n",
        "    </tr>\n",
        "    <tr>\n",
        "      <th>4</th>\n",
        "      <td> 2015-02-05</td>\n",
        "      <td> 60</td>\n",
        "    </tr>\n",
        "  </tbody>\n",
        "</table>\n",
        "</div>"
       ],
       "metadata": {},
       "output_type": "pyout",
       "prompt_number": 53,
       "text": [
        "         year  visitors_new\n",
        "0  2015-02-09            55\n",
        "1  2015-02-08            64\n",
        "2  2015-02-07            61\n",
        "3  2015-02-06            79\n",
        "4  2015-02-05            60"
       ]
      }
     ],
     "prompt_number": 53
    },
    {
     "cell_type": "code",
     "collapsed": false,
     "input": [
      "headers3 = [\"year\", \"visitors_uni\"]\n",
      "v2 = pd.read_csv(\"visitors-unique.csv\", skiprows = 5, names = headers3)\n",
      "v2.head()"
     ],
     "language": "python",
     "metadata": {},
     "outputs": [
      {
       "html": [
        "<div style=\"max-height:1000px;max-width:1500px;overflow:auto;\">\n",
        "<table border=\"1\" class=\"dataframe\">\n",
        "  <thead>\n",
        "    <tr style=\"text-align: right;\">\n",
        "      <th></th>\n",
        "      <th>year</th>\n",
        "      <th>visitors_uni</th>\n",
        "    </tr>\n",
        "  </thead>\n",
        "  <tbody>\n",
        "    <tr>\n",
        "      <th>0</th>\n",
        "      <td> 2015-02-09</td>\n",
        "      <td> 59</td>\n",
        "    </tr>\n",
        "    <tr>\n",
        "      <th>1</th>\n",
        "      <td> 2015-02-08</td>\n",
        "      <td> 72</td>\n",
        "    </tr>\n",
        "    <tr>\n",
        "      <th>2</th>\n",
        "      <td> 2015-02-07</td>\n",
        "      <td> 67</td>\n",
        "    </tr>\n",
        "    <tr>\n",
        "      <th>3</th>\n",
        "      <td> 2015-02-06</td>\n",
        "      <td> 84</td>\n",
        "    </tr>\n",
        "    <tr>\n",
        "      <th>4</th>\n",
        "      <td> 2015-02-05</td>\n",
        "      <td> 71</td>\n",
        "    </tr>\n",
        "  </tbody>\n",
        "</table>\n",
        "</div>"
       ],
       "metadata": {},
       "output_type": "pyout",
       "prompt_number": 54,
       "text": [
        "         year  visitors_uni\n",
        "0  2015-02-09            59\n",
        "1  2015-02-08            72\n",
        "2  2015-02-07            67\n",
        "3  2015-02-06            84\n",
        "4  2015-02-05            71"
       ]
      }
     ],
     "prompt_number": 54
    },
    {
     "cell_type": "code",
     "collapsed": false,
     "input": [
      "comb1 = pd.merge(v, v1)\n",
      "comb1.head()"
     ],
     "language": "python",
     "metadata": {},
     "outputs": [
      {
       "html": [
        "<div style=\"max-height:1000px;max-width:1500px;overflow:auto;\">\n",
        "<table border=\"1\" class=\"dataframe\">\n",
        "  <thead>\n",
        "    <tr style=\"text-align: right;\">\n",
        "      <th></th>\n",
        "      <th>year</th>\n",
        "      <th>visitors</th>\n",
        "      <th>visitors_new</th>\n",
        "    </tr>\n",
        "  </thead>\n",
        "  <tbody>\n",
        "    <tr>\n",
        "      <th>0</th>\n",
        "      <td> 2015-02-09</td>\n",
        "      <td> 59</td>\n",
        "      <td> 55</td>\n",
        "    </tr>\n",
        "    <tr>\n",
        "      <th>1</th>\n",
        "      <td> 2015-02-08</td>\n",
        "      <td> 79</td>\n",
        "      <td> 64</td>\n",
        "    </tr>\n",
        "    <tr>\n",
        "      <th>2</th>\n",
        "      <td> 2015-02-07</td>\n",
        "      <td> 73</td>\n",
        "      <td> 61</td>\n",
        "    </tr>\n",
        "    <tr>\n",
        "      <th>3</th>\n",
        "      <td> 2015-02-06</td>\n",
        "      <td> 89</td>\n",
        "      <td> 79</td>\n",
        "    </tr>\n",
        "    <tr>\n",
        "      <th>4</th>\n",
        "      <td> 2015-02-05</td>\n",
        "      <td> 80</td>\n",
        "      <td> 60</td>\n",
        "    </tr>\n",
        "  </tbody>\n",
        "</table>\n",
        "</div>"
       ],
       "metadata": {},
       "output_type": "pyout",
       "prompt_number": 55,
       "text": [
        "         year  visitors  visitors_new\n",
        "0  2015-02-09        59            55\n",
        "1  2015-02-08        79            64\n",
        "2  2015-02-07        73            61\n",
        "3  2015-02-06        89            79\n",
        "4  2015-02-05        80            60"
       ]
      }
     ],
     "prompt_number": 55
    },
    {
     "cell_type": "code",
     "collapsed": false,
     "input": [
      "comb = pd.merge(comb1, v2)\n",
      "comb.head()"
     ],
     "language": "python",
     "metadata": {},
     "outputs": [
      {
       "html": [
        "<div style=\"max-height:1000px;max-width:1500px;overflow:auto;\">\n",
        "<table border=\"1\" class=\"dataframe\">\n",
        "  <thead>\n",
        "    <tr style=\"text-align: right;\">\n",
        "      <th></th>\n",
        "      <th>year</th>\n",
        "      <th>visitors</th>\n",
        "      <th>visitors_new</th>\n",
        "      <th>visitors_uni</th>\n",
        "    </tr>\n",
        "  </thead>\n",
        "  <tbody>\n",
        "    <tr>\n",
        "      <th>0</th>\n",
        "      <td> 2015-02-09</td>\n",
        "      <td> 59</td>\n",
        "      <td> 55</td>\n",
        "      <td> 59</td>\n",
        "    </tr>\n",
        "    <tr>\n",
        "      <th>1</th>\n",
        "      <td> 2015-02-08</td>\n",
        "      <td> 79</td>\n",
        "      <td> 64</td>\n",
        "      <td> 72</td>\n",
        "    </tr>\n",
        "    <tr>\n",
        "      <th>2</th>\n",
        "      <td> 2015-02-07</td>\n",
        "      <td> 73</td>\n",
        "      <td> 61</td>\n",
        "      <td> 67</td>\n",
        "    </tr>\n",
        "    <tr>\n",
        "      <th>3</th>\n",
        "      <td> 2015-02-06</td>\n",
        "      <td> 89</td>\n",
        "      <td> 79</td>\n",
        "      <td> 84</td>\n",
        "    </tr>\n",
        "    <tr>\n",
        "      <th>4</th>\n",
        "      <td> 2015-02-05</td>\n",
        "      <td> 80</td>\n",
        "      <td> 60</td>\n",
        "      <td> 71</td>\n",
        "    </tr>\n",
        "  </tbody>\n",
        "</table>\n",
        "</div>"
       ],
       "metadata": {},
       "output_type": "pyout",
       "prompt_number": 56,
       "text": [
        "         year  visitors  visitors_new  visitors_uni\n",
        "0  2015-02-09        59            55            59\n",
        "1  2015-02-08        79            64            72\n",
        "2  2015-02-07        73            61            67\n",
        "3  2015-02-06        89            79            84\n",
        "4  2015-02-05        80            60            71"
       ]
      }
     ],
     "prompt_number": 56
    },
    {
     "cell_type": "code",
     "collapsed": false,
     "input": [
      "comb.sort(['year'], inplace=True)\n",
      "comb.head()"
     ],
     "language": "python",
     "metadata": {},
     "outputs": [
      {
       "html": [
        "<div style=\"max-height:1000px;max-width:1500px;overflow:auto;\">\n",
        "<table border=\"1\" class=\"dataframe\">\n",
        "  <thead>\n",
        "    <tr style=\"text-align: right;\">\n",
        "      <th></th>\n",
        "      <th>year</th>\n",
        "      <th>visitors</th>\n",
        "      <th>visitors_new</th>\n",
        "      <th>visitors_uni</th>\n",
        "    </tr>\n",
        "  </thead>\n",
        "  <tbody>\n",
        "    <tr>\n",
        "      <th>210</th>\n",
        "      <td> 2014-07-14</td>\n",
        "      <td>  5</td>\n",
        "      <td>  4</td>\n",
        "      <td>  4</td>\n",
        "    </tr>\n",
        "    <tr>\n",
        "      <th>209</th>\n",
        "      <td> 2014-07-15</td>\n",
        "      <td> 58</td>\n",
        "      <td> 55</td>\n",
        "      <td> 55</td>\n",
        "    </tr>\n",
        "    <tr>\n",
        "      <th>208</th>\n",
        "      <td> 2014-07-16</td>\n",
        "      <td> 18</td>\n",
        "      <td> 15</td>\n",
        "      <td> 18</td>\n",
        "    </tr>\n",
        "    <tr>\n",
        "      <th>207</th>\n",
        "      <td> 2014-07-17</td>\n",
        "      <td> 14</td>\n",
        "      <td> 10</td>\n",
        "      <td> 13</td>\n",
        "    </tr>\n",
        "    <tr>\n",
        "      <th>206</th>\n",
        "      <td> 2014-07-18</td>\n",
        "      <td> 11</td>\n",
        "      <td>  9</td>\n",
        "      <td> 11</td>\n",
        "    </tr>\n",
        "  </tbody>\n",
        "</table>\n",
        "</div>"
       ],
       "metadata": {},
       "output_type": "pyout",
       "prompt_number": 57,
       "text": [
        "           year  visitors  visitors_new  visitors_uni\n",
        "210  2014-07-14         5             4             4\n",
        "209  2014-07-15        58            55            55\n",
        "208  2014-07-16        18            15            18\n",
        "207  2014-07-17        14            10            13\n",
        "206  2014-07-18        11             9            11"
       ]
      }
     ],
     "prompt_number": 57
    },
    {
     "cell_type": "code",
     "collapsed": false,
     "input": [
      "comb.set_index(['year'], inplace=True)\n",
      "comb.head()"
     ],
     "language": "python",
     "metadata": {},
     "outputs": [
      {
       "html": [
        "<div style=\"max-height:1000px;max-width:1500px;overflow:auto;\">\n",
        "<table border=\"1\" class=\"dataframe\">\n",
        "  <thead>\n",
        "    <tr style=\"text-align: right;\">\n",
        "      <th></th>\n",
        "      <th>visitors</th>\n",
        "      <th>visitors_new</th>\n",
        "      <th>visitors_uni</th>\n",
        "    </tr>\n",
        "    <tr>\n",
        "      <th>year</th>\n",
        "      <th></th>\n",
        "      <th></th>\n",
        "      <th></th>\n",
        "    </tr>\n",
        "  </thead>\n",
        "  <tbody>\n",
        "    <tr>\n",
        "      <th>2014-07-14</th>\n",
        "      <td>  5</td>\n",
        "      <td>  4</td>\n",
        "      <td>  4</td>\n",
        "    </tr>\n",
        "    <tr>\n",
        "      <th>2014-07-15</th>\n",
        "      <td> 58</td>\n",
        "      <td> 55</td>\n",
        "      <td> 55</td>\n",
        "    </tr>\n",
        "    <tr>\n",
        "      <th>2014-07-16</th>\n",
        "      <td> 18</td>\n",
        "      <td> 15</td>\n",
        "      <td> 18</td>\n",
        "    </tr>\n",
        "    <tr>\n",
        "      <th>2014-07-17</th>\n",
        "      <td> 14</td>\n",
        "      <td> 10</td>\n",
        "      <td> 13</td>\n",
        "    </tr>\n",
        "    <tr>\n",
        "      <th>2014-07-18</th>\n",
        "      <td> 11</td>\n",
        "      <td>  9</td>\n",
        "      <td> 11</td>\n",
        "    </tr>\n",
        "  </tbody>\n",
        "</table>\n",
        "</div>"
       ],
       "metadata": {},
       "output_type": "pyout",
       "prompt_number": 58,
       "text": [
        "            visitors  visitors_new  visitors_uni\n",
        "year                                            \n",
        "2014-07-14         5             4             4\n",
        "2014-07-15        58            55            55\n",
        "2014-07-16        18            15            18\n",
        "2014-07-17        14            10            13\n",
        "2014-07-18        11             9            11"
       ]
      }
     ],
     "prompt_number": 58
    },
    {
     "cell_type": "code",
     "collapsed": false,
     "input": [
      "comb.plot()\n",
      "plt.show()"
     ],
     "language": "python",
     "metadata": {},
     "outputs": [
      {
       "metadata": {},
       "output_type": "display_data",
       "png": "[encoded data removed]",
       "text": [
        "<matplotlib.figure.Figure at 0xd269f98>"
       ]
      }
     ],
     "prompt_number": 59
    },
    {
     "cell_type": "code",
     "collapsed": false,
     "input": [
      "#pd.to_datetime(comb.index) > pd.to_datetime('2014-11-1')\n",
      "comb_new = comb[pd.to_datetime(comb.index) > pd.to_datetime('2014-11-1')]\n",
      "comb_new.head()"
     ],
     "language": "python",
     "metadata": {},
     "outputs": [
      {
       "html": [
        "<div style=\"max-height:1000px;max-width:1500px;overflow:auto;\">\n",
        "<table border=\"1\" class=\"dataframe\">\n",
        "  <thead>\n",
        "    <tr style=\"text-align: right;\">\n",
        "      <th></th>\n",
        "      <th>visitors</th>\n",
        "      <th>visitors_new</th>\n",
        "      <th>visitors_uni</th>\n",
        "    </tr>\n",
        "    <tr>\n",
        "      <th>year</th>\n",
        "      <th></th>\n",
        "      <th></th>\n",
        "      <th></th>\n",
        "    </tr>\n",
        "  </thead>\n",
        "  <tbody>\n",
        "    <tr>\n",
        "      <th>2014-11-02</th>\n",
        "      <td>  6</td>\n",
        "      <td>  3</td>\n",
        "      <td>  6</td>\n",
        "    </tr>\n",
        "    <tr>\n",
        "      <th>2014-11-03</th>\n",
        "      <td> 15</td>\n",
        "      <td> 11</td>\n",
        "      <td> 13</td>\n",
        "    </tr>\n",
        "    <tr>\n",
        "      <th>2014-11-04</th>\n",
        "      <td> 11</td>\n",
        "      <td>  9</td>\n",
        "      <td> 11</td>\n",
        "    </tr>\n",
        "    <tr>\n",
        "      <th>2014-11-05</th>\n",
        "      <td> 23</td>\n",
        "      <td> 18</td>\n",
        "      <td> 20</td>\n",
        "    </tr>\n",
        "    <tr>\n",
        "      <th>2014-11-06</th>\n",
        "      <td> 20</td>\n",
        "      <td> 13</td>\n",
        "      <td> 18</td>\n",
        "    </tr>\n",
        "  </tbody>\n",
        "</table>\n",
        "</div>"
       ],
       "metadata": {},
       "output_type": "pyout",
       "prompt_number": 62,
       "text": [
        "            visitors  visitors_new  visitors_uni\n",
        "year                                            \n",
        "2014-11-02         6             3             6\n",
        "2014-11-03        15            11            13\n",
        "2014-11-04        11             9            11\n",
        "2014-11-05        23            18            20\n",
        "2014-11-06        20            13            18"
       ]
      }
     ],
     "prompt_number": 62
    },
    {
     "cell_type": "code",
     "collapsed": false,
     "input": [
      "comb_new.plot()\n",
      "plt.show()"
     ],
     "language": "python",
     "metadata": {},
     "outputs": [
      {
       "metadata": {},
       "output_type": "display_data",
       "png": "[encoded data removed]",
       "text": [
        "<matplotlib.figure.Figure at 0xd269208>"
       ]
      }
     ],
     "prompt_number": 64
    },
    {
     "cell_type": "code",
     "collapsed": false,
     "input": [],
     "language": "python",
     "metadata": {},
     "outputs": [],
     "prompt_number": 60
    }
   ],
   "metadata": {}
  }
 ]
}