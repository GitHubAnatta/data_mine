{
 "metadata": {
  "name": "",
  "signature": "sha256:c708a680298a416408d79dda1c4c8a272a23b670b1c979a22c657f7c580c56a4"
 },
 "nbformat": 3,
 "nbformat_minor": 0,
 "worksheets": [
  {
   "cells": [
    {
     "cell_type": "code",
     "collapsed": false,
     "input": [
      "import pandas as pd"
     ],
     "language": "python",
     "metadata": {},
     "outputs": [],
     "prompt_number": 1
    },
    {
     "cell_type": "code",
     "collapsed": false,
     "input": [
      "data = pd.read_csv(\"Accidents7904.csv\")"
     ],
     "language": "python",
     "metadata": {},
     "outputs": [
      {
       "output_type": "stream",
       "stream": "stderr",
       "text": [
        "C:\\st\\Anaconda\\lib\\site-packages\\pandas\\io\\parsers.py:1139: DtypeWarning: Columns (13,31) have mixed types. Specify dtype option on import or set low_memory=False.\n",
        "  data = self._reader.read(nrows)\n"
       ]
      }
     ],
     "prompt_number": 2
    },
    {
     "cell_type": "code",
     "collapsed": false,
     "input": [
      "data_london = data[data['Police_Force'] == 1]\n",
      "print data_london[:5]"
     ],
     "language": "python",
     "metadata": {},
     "outputs": [
      {
       "output_type": "stream",
       "stream": "stdout",
       "text": [
        "  \ufeffAccident_Index  Location_Easting_OSGR  Location_Northing_OSGR  Longitude  \\\n",
        "0   197901A11AD14                    NaN                     NaN        NaN   \n",
        "1   197901A1BAW34                 198460                  894000        NaN   \n",
        "2   197901A1BFD77                 406380                  307000        NaN   \n",
        "3   197901A1BGC20                 281680                  440000        NaN   \n",
        "4   197901A1BGF95                 153960                  795000        NaN   \n",
        "\n",
        "   Latitude  Police_Force  Accident_Severity  Number_of_Vehicles  \\\n",
        "0       NaN             1                  3                   2   \n",
        "1       NaN             1                  3                   1   \n",
        "2       NaN             1                  3                   2   \n",
        "3       NaN             1                  3                   2   \n",
        "4       NaN             1                  2                   2   \n",
        "\n",
        "   Number_of_Casualties        Date     ...      \\\n",
        "0                     1  18/01/1979     ...       \n",
        "1                     1  01/01/1979     ...       \n",
        "2                     3  01/01/1979     ...       \n",
        "3                     2  01/01/1979     ...       \n",
        "4                     1  01/01/1979     ...       \n",
        "\n",
        "   Pedestrian_Crossing-Human_Control Pedestrian_Crossing-Physical_Facilities  \\\n",
        "0                                 -1                                      -1   \n",
        "1                                 -1                                      -1   \n",
        "2                                 -1                                      -1   \n",
        "3                                 -1                                      -1   \n",
        "4                                 -1                                      -1   \n",
        "\n",
        "   Light_Conditions Weather_Conditions  Road_Surface_Conditions  \\\n",
        "0                 1                  8                        1   \n",
        "1                 4                  8                        3   \n",
        "2                 4                  8                        3   \n",
        "3                 4                  8                        3   \n",
        "4                 4                  3                        3   \n",
        "\n",
        "   Special_Conditions_at_Site  Carriageway_Hazards  Urban_or_Rural_Area  \\\n",
        "0                          -1                    0                   -1   \n",
        "1                          -1                    0                   -1   \n",
        "2                          -1                    0                   -1   \n",
        "3                          -1                    0                   -1   \n",
        "4                          -1                    0                   -1   \n",
        "\n",
        "   Did_Police_Officer_Attend_Scene_of_Accident  LSOA_of_Accident_Location  \n",
        "0                                           -1                        NaN  \n",
        "1                                           -1                        NaN  \n",
        "2                                           -1                        NaN  \n",
        "3                                           -1                        NaN  \n",
        "4                                           -1                        NaN  \n",
        "\n",
        "[5 rows x 32 columns]\n"
       ]
      }
     ],
     "prompt_number": 3
    },
    {
     "cell_type": "code",
     "collapsed": false,
     "input": [
      "data_london_new2 = data_london[['Date', 'Time', 'Number_of_Casualties']]\n",
      "data_london_new2.head()"
     ],
     "language": "python",
     "metadata": {},
     "outputs": [
      {
       "html": [
        "<div style=\"max-height:1000px;max-width:1500px;overflow:auto;\">\n",
        "<table border=\"1\" class=\"dataframe\">\n",
        "  <thead>\n",
        "    <tr style=\"text-align: right;\">\n",
        "      <th></th>\n",
        "      <th>Date</th>\n",
        "      <th>Time</th>\n",
        "      <th>Number_of_Casualties</th>\n",
        "    </tr>\n",
        "  </thead>\n",
        "  <tbody>\n",
        "    <tr>\n",
        "      <th>0</th>\n",
        "      <td> 18/01/1979</td>\n",
        "      <td> 08:00</td>\n",
        "      <td> 1</td>\n",
        "    </tr>\n",
        "    <tr>\n",
        "      <th>1</th>\n",
        "      <td> 01/01/1979</td>\n",
        "      <td> 01:00</td>\n",
        "      <td> 1</td>\n",
        "    </tr>\n",
        "    <tr>\n",
        "      <th>2</th>\n",
        "      <td> 01/01/1979</td>\n",
        "      <td> 01:25</td>\n",
        "      <td> 3</td>\n",
        "    </tr>\n",
        "    <tr>\n",
        "      <th>3</th>\n",
        "      <td> 01/01/1979</td>\n",
        "      <td> 01:30</td>\n",
        "      <td> 2</td>\n",
        "    </tr>\n",
        "    <tr>\n",
        "      <th>4</th>\n",
        "      <td> 01/01/1979</td>\n",
        "      <td> 01:30</td>\n",
        "      <td> 1</td>\n",
        "    </tr>\n",
        "  </tbody>\n",
        "</table>\n",
        "</div>"
       ],
       "metadata": {},
       "output_type": "pyout",
       "prompt_number": 4,
       "text": [
        "         Date   Time  Number_of_Casualties\n",
        "0  18/01/1979  08:00                     1\n",
        "1  01/01/1979  01:00                     1\n",
        "2  01/01/1979  01:25                     3\n",
        "3  01/01/1979  01:30                     2\n",
        "4  01/01/1979  01:30                     1"
       ]
      }
     ],
     "prompt_number": 4
    },
    {
     "cell_type": "code",
     "collapsed": false,
     "input": [
      "data_london_new2.sort('Date', inplace=True)\n",
      "#data_london_new2.set_index('Date', inplace=True)\n",
      "data_london_new2.head()"
     ],
     "language": "python",
     "metadata": {},
     "outputs": [
      {
       "output_type": "stream",
       "stream": "stderr",
       "text": [
        "C:\\st\\Anaconda\\lib\\site-packages\\pandas\\core\\frame.py:2679: SettingWithCopyWarning: A value is trying to be set on a copy of a slice from a DataFrame\n",
        "  inplace=inplace, kind=kind, na_position=na_position)\n"
       ]
      },
      {
       "html": [
        "<div style=\"max-height:1000px;max-width:1500px;overflow:auto;\">\n",
        "<table border=\"1\" class=\"dataframe\">\n",
        "  <thead>\n",
        "    <tr style=\"text-align: right;\">\n",
        "      <th></th>\n",
        "      <th>Date</th>\n",
        "      <th>Time</th>\n",
        "      <th>Number_of_Casualties</th>\n",
        "    </tr>\n",
        "  </thead>\n",
        "  <tbody>\n",
        "    <tr>\n",
        "      <th>20</th>\n",
        "      <td> 01/01/1979</td>\n",
        "      <td> 12:40</td>\n",
        "      <td> 2</td>\n",
        "    </tr>\n",
        "    <tr>\n",
        "      <th>1 </th>\n",
        "      <td> 01/01/1979</td>\n",
        "      <td> 01:00</td>\n",
        "      <td> 1</td>\n",
        "    </tr>\n",
        "    <tr>\n",
        "      <th>2 </th>\n",
        "      <td> 01/01/1979</td>\n",
        "      <td> 01:25</td>\n",
        "      <td> 3</td>\n",
        "    </tr>\n",
        "    <tr>\n",
        "      <th>3 </th>\n",
        "      <td> 01/01/1979</td>\n",
        "      <td> 01:30</td>\n",
        "      <td> 2</td>\n",
        "    </tr>\n",
        "    <tr>\n",
        "      <th>4 </th>\n",
        "      <td> 01/01/1979</td>\n",
        "      <td> 01:30</td>\n",
        "      <td> 1</td>\n",
        "    </tr>\n",
        "  </tbody>\n",
        "</table>\n",
        "</div>"
       ],
       "metadata": {},
       "output_type": "pyout",
       "prompt_number": 5,
       "text": [
        "          Date   Time  Number_of_Casualties\n",
        "20  01/01/1979  12:40                     2\n",
        "1   01/01/1979  01:00                     1\n",
        "2   01/01/1979  01:25                     3\n",
        "3   01/01/1979  01:30                     2\n",
        "4   01/01/1979  01:30                     1"
       ]
      }
     ],
     "prompt_number": 5
    },
    {
     "cell_type": "code",
     "collapsed": false,
     "input": [
      "data_london_new2.sort('Time', inplace=True)\n",
      "#data_london_new2.set_index('Date', inplace=True)\n",
      "data_london_new2.head()"
     ],
     "language": "python",
     "metadata": {},
     "outputs": [
      {
       "html": [
        "<div style=\"max-height:1000px;max-width:1500px;overflow:auto;\">\n",
        "<table border=\"1\" class=\"dataframe\">\n",
        "  <thead>\n",
        "    <tr style=\"text-align: right;\">\n",
        "      <th></th>\n",
        "      <th>Date</th>\n",
        "      <th>Time</th>\n",
        "      <th>Number_of_Casualties</th>\n",
        "    </tr>\n",
        "  </thead>\n",
        "  <tbody>\n",
        "    <tr>\n",
        "      <th>2770115</th>\n",
        "      <td> 23/11/1990</td>\n",
        "      <td> 00:01</td>\n",
        "      <td> 2</td>\n",
        "    </tr>\n",
        "    <tr>\n",
        "      <th>4661940</th>\n",
        "      <td> 07/12/1998</td>\n",
        "      <td> 00:01</td>\n",
        "      <td> 1</td>\n",
        "    </tr>\n",
        "    <tr>\n",
        "      <th>2264722</th>\n",
        "      <td> 11/09/1988</td>\n",
        "      <td> 00:01</td>\n",
        "      <td> 1</td>\n",
        "    </tr>\n",
        "    <tr>\n",
        "      <th>2268405</th>\n",
        "      <td> 06/08/1988</td>\n",
        "      <td> 00:01</td>\n",
        "      <td> 2</td>\n",
        "    </tr>\n",
        "    <tr>\n",
        "      <th>5583244</th>\n",
        "      <td> 13/07/2002</td>\n",
        "      <td> 00:01</td>\n",
        "      <td> 1</td>\n",
        "    </tr>\n",
        "  </tbody>\n",
        "</table>\n",
        "</div>"
       ],
       "metadata": {},
       "output_type": "pyout",
       "prompt_number": 6,
       "text": [
        "               Date   Time  Number_of_Casualties\n",
        "2770115  23/11/1990  00:01                     2\n",
        "4661940  07/12/1998  00:01                     1\n",
        "2264722  11/09/1988  00:01                     1\n",
        "2268405  06/08/1988  00:01                     2\n",
        "5583244  13/07/2002  00:01                     1"
       ]
      }
     ],
     "prompt_number": 6
    },
    {
     "cell_type": "code",
     "collapsed": false,
     "input": [
      "writer = pd.ExcelWriter('output.xlsx')\n",
      "data_london_new2.to_excel(writer,'Sheet1')\n",
      "writer.save()"
     ],
     "language": "python",
     "metadata": {},
     "outputs": [],
     "prompt_number": 7
    },
    {
     "cell_type": "code",
     "collapsed": false,
     "input": [],
     "language": "python",
     "metadata": {},
     "outputs": [],
     "prompt_number": 7
    },
    {
     "cell_type": "code",
     "collapsed": false,
     "input": [],
     "language": "python",
     "metadata": {},
     "outputs": [],
     "prompt_number": 7
    }
   ],
   "metadata": {}
  }
 ]
}