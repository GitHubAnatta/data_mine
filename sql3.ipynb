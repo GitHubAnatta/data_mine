{
 "metadata": {
  "name": "",
  "signature": "sha256:dffb00b66d42e4e3b7f4be0521b406b2bdd4ebf44b3e5b5bb61c6fed22d83370"
 },
 "nbformat": 3,
 "nbformat_minor": 0,
 "worksheets": [
  {
   "cells": [
    {
     "cell_type": "code",
     "collapsed": false,
     "input": [
      "import sqlite3\n",
      "\n",
      "input_file = \"npidata_20050523-20150111.csv\"\n",
      "counter = 0\n",
      "db_list = []\n",
      "with open(input_file) as infile:\n",
      "    for line in infile:\n",
      "        #print line\n",
      "        line = line.replace('\"', '')\n",
      "        data = line.split(\",\")\n",
      "        name = data[6] + \" \" + data[7]  + \" \" + data[5]\n",
      "        business_name = data[4]\n",
      "        city = data[22]\n",
      "        state = data[23]\n",
      "        if counter > 0:\n",
      "            db_list.append((name, business_name, city, state))\n",
      "        counter += 1\n",
      "        #if counter == 10:\n",
      "        #    break"
     ],
     "language": "python",
     "metadata": {},
     "outputs": [],
     "prompt_number": 10
    },
    {
     "cell_type": "code",
     "collapsed": false,
     "input": [
      "len(db_list)"
     ],
     "language": "python",
     "metadata": {},
     "outputs": [
      {
       "metadata": {},
       "output_type": "pyout",
       "prompt_number": 11,
       "text": [
        "4476420"
       ]
      }
     ],
     "prompt_number": 11
    },
    {
     "cell_type": "code",
     "collapsed": false,
     "input": [
      "db = \"./npi_data.db\"\n",
      "conn = sqlite3.connect(db)\n",
      "conn.text_factory = str\n",
      "c = conn.cursor()\n",
      "\n",
      "c.executemany(\"INSERT INTO npi_table VALUES (?,?,?, ?)\",db_list)\n",
      "conn.commit()\n",
      "\n",
      "conn.close()"
     ],
     "language": "python",
     "metadata": {},
     "outputs": [],
     "prompt_number": 13
    },
    {
     "cell_type": "code",
     "collapsed": false,
     "input": [
      "db = \"./npi_data.db\"\n",
      "conn = sqlite3.connect(db)\n",
      "conn.text_factory = str\n",
      "c = conn.cursor()"
     ],
     "language": "python",
     "metadata": {},
     "outputs": [],
     "prompt_number": 14
    },
    {
     "cell_type": "code",
     "collapsed": false,
     "input": [
      "c.execute(\"SELECT * from npi_table where State='TX' and lower(city)='houston'\")\n",
      "result = c.fetchall()\n",
      "print result"
     ],
     "language": "python",
     "metadata": {},
     "outputs": []
    },
    {
     "cell_type": "code",
     "collapsed": false,
     "input": [
      "c.execute(\"SELECT * from npi_table where State='TX' and lower(city)!='houston'\")\n",
      "result = c.fetchall()\n",
      "print result"
     ],
     "language": "python",
     "metadata": {},
     "outputs": []
    },
    {
     "cell_type": "code",
     "collapsed": false,
     "input": [
      "c.execute(\"SELECT * from npi_table where city like 'Z%'\")\n",
      "result = c.fetchall()\n",
      "print result"
     ],
     "language": "python",
     "metadata": {},
     "outputs": []
    },
    {
     "cell_type": "code",
     "collapsed": false,
     "input": [
      "c.execute(\"SELECT * from npi_table where city like 'Z___'\")\n",
      "result = c.fetchall()\n",
      "print result"
     ],
     "language": "python",
     "metadata": {},
     "outputs": []
    },
    {
     "cell_type": "code",
     "collapsed": false,
     "input": [
      "c.execute(\"SELECT * from npi_table where name like 'RAHUL%'\")\n",
      "result = c.fetchall()\n",
      "print result"
     ],
     "language": "python",
     "metadata": {},
     "outputs": []
    },
    {
     "cell_type": "code",
     "collapsed": false,
     "input": [
      "c.execute(\"SELECT * from npi_table where name like 'RAHUL%' and state='MA'\")\n",
      "result = c.fetchall()\n",
      "print result"
     ],
     "language": "python",
     "metadata": {},
     "outputs": [
      {
       "output_type": "stream",
       "stream": "stdout",
       "text": [
        "[('RAHUL HARDAS RATHOD', '', 'BROOKLINE', 'MA'), ('RAHUL K SHAH', '', 'BROOKLINE', 'MA'), ('RAHUL J SAWANT', '', 'FRANKLIN', 'MA'), ('RAHUL C DEO', '', 'BROOKLINE', 'MA'), ('RAHUL  CHATURVEDI', '', 'HYANNIS', 'MA'), ('RAHUL K PATEL', '', 'GREENFIELD', 'MA'), ('RAHUL  KAKKAR', '', 'BOSTON', 'MA'), ('RAHULKUMAR  SINGH', '', 'SPRINGFIELD', 'MA'), ('RAHUL ANIL SHETH', '', 'CHESTNUT HILL', 'MA'), ('RAHUL N. SOOD', '', 'WORCESTER', 'MA'), ('RAHUL CHANDRABHAN GUPTA', '', 'BRIGHTON', 'MA'), ('RAHUL SRINIVASA VEDULA', '', 'BOSTON', 'MA'), ('RAHUL  MODI', '', 'BOSTON', 'MA')]\n"
       ]
      }
     ],
     "prompt_number": 29
    },
    {
     "cell_type": "code",
     "collapsed": false,
     "input": [
      "c.execute(\"SELECT * from npi_table where name like 'RAHUL%' and state='MA' and lower(city)='boston'\")\n",
      "result = c.fetchall()\n",
      "print result"
     ],
     "language": "python",
     "metadata": {},
     "outputs": [
      {
       "output_type": "stream",
       "stream": "stdout",
       "text": [
        "[('RAHUL  KAKKAR', '', 'BOSTON', 'MA'), ('RAHUL SRINIVASA VEDULA', '', 'BOSTON', 'MA'), ('RAHUL  MODI', '', 'BOSTON', 'MA')]\n"
       ]
      }
     ],
     "prompt_number": 30
    },
    {
     "cell_type": "code",
     "collapsed": false,
     "input": [
      "conn.close()"
     ],
     "language": "python",
     "metadata": {},
     "outputs": [],
     "prompt_number": 31
    },
    {
     "cell_type": "code",
     "collapsed": false,
     "input": [],
     "language": "python",
     "metadata": {},
     "outputs": []
    }
   ],
   "metadata": {}
  }
 ]
}