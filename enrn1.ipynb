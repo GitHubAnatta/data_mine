{
 "metadata": {
  "name": "",
  "signature": "sha256:1a7aae07629c1ae535060626611f27c937fb84c2d1c71491655d7157016c4b71"
 },
 "nbformat": 3,
 "nbformat_minor": 0,
 "worksheets": [
  {
   "cells": [
    {
     "cell_type": "markdown",
     "metadata": {},
     "source": [
      "From maildir\\brawner-s\\inbox\n",
      "\n",
      "1\n",
      "17"
     ]
    },
    {
     "cell_type": "code",
     "collapsed": false,
     "input": [
      "import re\n"
     ],
     "language": "python",
     "metadata": {},
     "outputs": [],
     "prompt_number": 20
    },
    {
     "cell_type": "code",
     "collapsed": false,
     "input": [
      "with open(\"17\", \"r\") as f:\n",
      "    b = f.read()\n",
      "\n",
      "b = b.replace(\"\\t\", \"\")\n",
      "\n",
      "b = b.replace(\"\\n\", \"\")\n",
      "    "
     ],
     "language": "python",
     "metadata": {},
     "outputs": [],
     "prompt_number": 21
    },
    {
     "cell_type": "markdown",
     "metadata": {},
     "source": [
      "Show how I got this\n",
      "\n",
      "Also, why using search(). Only match one."
     ]
    },
    {
     "cell_type": "code",
     "collapsed": false,
     "input": [
      " d1 = re.search(\"To: ([\\w@,. \\-\\'\\<\\>]*)Subject\", b).group(1)\n"
     ],
     "language": "python",
     "metadata": {},
     "outputs": [],
     "prompt_number": 37
    },
    {
     "cell_type": "code",
     "collapsed": false,
     "input": [
      "with open(\"1\", \"r\") as f:\n",
      "    c = f.read()\n",
      "\n",
      "c = c.replace(\"\\t\", \"\")\n",
      "\n",
      "c = c.replace(\"\\n\", \"\")\n",
      "    "
     ],
     "language": "python",
     "metadata": {},
     "outputs": [],
     "prompt_number": 23
    },
    {
     "cell_type": "code",
     "collapsed": false,
     "input": [
      "d2= re.search(\"To: ([\\w@,. \\-\\'\\<\\>]*)Subject\", c).group(1)"
     ],
     "language": "python",
     "metadata": {},
     "outputs": [],
     "prompt_number": 24
    },
    {
     "cell_type": "code",
     "collapsed": false,
     "input": [
      "print re.search(\"From: ([\\w@,. \\-\\'\\<\\>]*)To\", c).group(1)\n",
      "print re.search(\"From: ([\\w@,. \\-\\'\\<\\>]*)To\", b).group(1)"
     ],
     "language": "python",
     "metadata": {},
     "outputs": [
      {
       "output_type": "stream",
       "stream": "stdout",
       "text": [
        "liz.taylor@enron.com\n",
        "david.forster@enron.com\n"
       ]
      }
     ],
     "prompt_number": 25
    },
    {
     "cell_type": "code",
     "collapsed": false,
     "input": [
      "len(d1)"
     ],
     "language": "python",
     "metadata": {},
     "outputs": [
      {
       "metadata": {},
       "output_type": "pyout",
       "prompt_number": 38,
       "text": [
        "14485"
       ]
      }
     ],
     "prompt_number": 38
    },
    {
     "cell_type": "code",
     "collapsed": false,
     "input": [
      "d1 = d1.split(\",\")"
     ],
     "language": "python",
     "metadata": {},
     "outputs": [],
     "prompt_number": 39
    },
    {
     "cell_type": "code",
     "collapsed": false,
     "input": [
      "d1 = [d.replace(\" \",\"\") for d in d1]\n",
      "d1[:6]"
     ],
     "language": "python",
     "metadata": {},
     "outputs": [
      {
       "metadata": {},
       "output_type": "pyout",
       "prompt_number": 40,
       "text": [
        "['tom.alonso@enron.com',\n",
        " 'tim.belden@enron.com',\n",
        " 'f..calger@enron.com',\n",
        " 'jill.chatterton@enron.com',\n",
        " 'sean.crandall@enron.com',\n",
        " 'debra.davidson@enron.com']"
       ]
      }
     ],
     "prompt_number": 40
    },
    {
     "cell_type": "code",
     "collapsed": false,
     "input": [],
     "language": "python",
     "metadata": {},
     "outputs": []
    }
   ],
   "metadata": {}
  }
 ]
}