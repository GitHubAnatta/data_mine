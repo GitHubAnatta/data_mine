{
 "metadata": {
  "name": "",
  "signature": "sha256:a623ffc86a9ebb76bedf076b76b8184403e7514e5e8b555c14600ea26a3963a8"
 },
 "nbformat": 3,
 "nbformat_minor": 0,
 "worksheets": [
  {
   "cells": [
    {
     "cell_type": "code",
     "collapsed": false,
     "input": [
      "%cd \"C:\\Users\\eshatiw\\Desktop\\enron\\enron_mail_20110402\\maildir\"\n",
      "%pwd"
     ],
     "language": "python",
     "metadata": {},
     "outputs": [
      {
       "output_type": "stream",
       "stream": "stdout",
       "text": [
        "C:\\Users\\eshatiw\\Desktop\\enron\\enron_mail_20110402\\maildir\n"
       ]
      },
      {
       "metadata": {},
       "output_type": "pyout",
       "prompt_number": 37,
       "text": [
        "u'C:\\\\Users\\\\eshatiw\\\\Desktop\\\\enron\\\\enron_mail_20110402\\\\maildir'"
       ]
      }
     ],
     "prompt_number": 37
    },
    {
     "cell_type": "code",
     "collapsed": false,
     "input": [
      "#%cd \"C:\\Users\\eshatiw\\Documents\\IPython Notebooks\\a\"\n",
      "\n",
      "# Values will be array with 2 entries: From email number, to email number\n",
      "email_dict_to = {}\n",
      "email_dict_from = {}\n"
     ],
     "language": "python",
     "metadata": {},
     "outputs": [],
     "prompt_number": 38
    },
    {
     "cell_type": "code",
     "collapsed": false,
     "input": [
      "def find_emails(email_dict_to, email_dict_from, input_file):\n",
      "    with open(input_file, \"r\") as f:\n",
      "        b = f.read()\n",
      "    b = b.replace(\"\\t\", \"\")\n",
      "\n",
      "    b = b.replace(\"\\n\", \"\")\n",
      "    try:\n",
      "        from_email = re.search(\"From: ([\\w@,. \\-\\'\\<\\>]*)To\", b).group(1)\n",
      "    \n",
      "        to_list = re.search(\"To: ([\\w@,. \\-\\'\\<\\>]*)Subject\", b).group(1)\n",
      "    \n",
      "        to_list = to_list.split(\",\")\n",
      "        \n",
      "    \n",
      "        # Remove spaces at beginning. Actually work thru this, showing why Im doing this\n",
      "        to_list = [t.replace(\" \",\"\") for t in to_list]\n",
      "    except:\n",
      "        return\n",
      "        \n",
      "    \n",
      "    if from_email not in email_dict_from:\n",
      "        email_dict_from.setdefault(from_email, 1)\n",
      "    else:\n",
      "        email_dict_from[from_email] += 1\n",
      "    \n",
      "    for email in to_list:\n",
      "        if email not in email_dict_to:\n",
      "            email_dict_to.setdefault(email, 1)\n",
      "        else:\n",
      "            email_dict_to[email] += 1        \n",
      "    "
     ],
     "language": "python",
     "metadata": {},
     "outputs": [],
     "prompt_number": 50
    },
    {
     "cell_type": "code",
     "collapsed": false,
     "input": [
      "import os\n",
      "import re\n",
      "\n",
      "rootDir = '.'\n",
      "for dirName, subdirList, fileList in os.walk(rootDir):\n",
      "    for fname in fileList:\n",
      "        find_emails(email_dict_to, email_dict_from, os.path.join(dirName, fname))"
     ],
     "language": "python",
     "metadata": {},
     "outputs": [],
     "prompt_number": 51
    },
    {
     "cell_type": "code",
     "collapsed": false,
     "input": [
      "sorted_to = {}\n",
      "from collections import OrderedDict\n",
      "from operator import itemgetter\n",
      "sorted_to = OrderedDict(sorted(email_dict_to.items(), key=itemgetter(1), reverse=True))\n",
      "for s in sorted_to.keys()[:15]:\n",
      "    print s, sorted_to[s]"
     ],
     "language": "python",
     "metadata": {},
     "outputs": [
      {
       "output_type": "stream",
       "stream": "stdout",
       "text": [
        "richard.shapiro@enron.com 15164\n",
        "jeff.dasovich@enron.com 14199\n",
        "tana.jones@enron.com 12807\n",
        "steven.kean@enron.com 12757\n",
        "sara.shackleton@enron.com 11414\n",
        "james.steffes@enron.com 10365\n",
        "mark.taylor@enron.com 9791\n",
        "pete.davis@enron.com 9281\n",
        "susan.mara@enron.com 9056\n",
        "paul.kaufman@enron.com 8531\n",
        "louise.kitchen@enron.com 8327\n",
        "tim.belden@enron.com 7971\n",
        "john.lavorato@enron.com 7441\n",
        "sally.beck@enron.com 7311\n",
        "gerald.nemec@enron.com 6707\n"
       ]
      }
     ],
     "prompt_number": 52
    },
    {
     "cell_type": "code",
     "collapsed": false,
     "input": [
      "sorted_from = {}\n",
      "from collections import OrderedDict\n",
      "from operator import itemgetter\n",
      "sorted_from = OrderedDict(sorted(email_dict_from.items(), key=itemgetter(1), reverse=True))\n",
      "for s in sorted_from.keys()[:15]:\n",
      "    print s, sorted_from[s]"
     ],
     "language": "python",
     "metadata": {},
     "outputs": [
      {
       "output_type": "stream",
       "stream": "stdout",
       "text": [
        "kay.mann@enron.com 16721\n",
        "vince.kaminski@enron.com 14329\n",
        "jeff.dasovich@enron.com 11386\n",
        "pete.davis@enron.com 9149\n",
        "sara.shackleton@enron.com 8756\n",
        "chris.germany@enron.com 8740\n",
        "enron.announcements@enron.com 8521\n",
        "tana.jones@enron.com 8447\n",
        "john.arnold@enron.com 7049\n",
        "steven.kean@enron.com 6220\n",
        "kate.symes@enron.com 5435\n",
        "matthew.lenhart@enron.com 5256\n",
        "eric.bass@enron.com 5154\n",
        "debra.perlingiere@enron.com 4355\n",
        "sally.beck@enron.com 4331\n"
       ]
      }
     ],
     "prompt_number": 53
    },
    {
     "cell_type": "code",
     "collapsed": false,
     "input": [],
     "language": "python",
     "metadata": {},
     "outputs": []
    }
   ],
   "metadata": {}
  }
 ]
}