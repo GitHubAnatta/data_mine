{
 "metadata": {
  "name": "",
  "signature": "sha256:0db71605fd9360be280362dc3f94bd4d0d25e6fe87d42c241603ac1ec7ad00fa"
 },
 "nbformat": 3,
 "nbformat_minor": 0,
 "worksheets": [
  {
   "cells": [
    {
     "cell_type": "code",
     "collapsed": false,
     "input": [
      "import pandas as pd"
     ],
     "language": "python",
     "metadata": {},
     "outputs": [],
     "prompt_number": 1
    },
    {
     "cell_type": "code",
     "collapsed": false,
     "input": [
      "data = pd.read_csv(\"Accidents7904.csv\")"
     ],
     "language": "python",
     "metadata": {},
     "outputs": [
      {
       "output_type": "stream",
       "stream": "stderr",
       "text": [
        "C:\\st\\Anaconda\\lib\\site-packages\\pandas\\io\\parsers.py:1139: DtypeWarning: Columns (13,31) have mixed types. Specify dtype option on import or set low_memory=False.\n",
        "  data = self._reader.read(nrows)\n"
       ]
      }
     ],
     "prompt_number": 2
    },
    {
     "cell_type": "code",
     "collapsed": false,
     "input": [
      "print type(data)"
     ],
     "language": "python",
     "metadata": {},
     "outputs": [
      {
       "output_type": "stream",
       "stream": "stdout",
       "text": [
        "<class 'pandas.core.frame.DataFrame'>\n"
       ]
      }
     ],
     "prompt_number": 3
    },
    {
     "cell_type": "code",
     "collapsed": false,
     "input": [
      "list(data)"
     ],
     "language": "python",
     "metadata": {},
     "outputs": [
      {
       "metadata": {},
       "output_type": "pyout",
       "prompt_number": 4,
       "text": [
        "['\\xef\\xbb\\xbfAccident_Index',\n",
        " 'Location_Easting_OSGR',\n",
        " 'Location_Northing_OSGR',\n",
        " 'Longitude',\n",
        " 'Latitude',\n",
        " 'Police_Force',\n",
        " 'Accident_Severity',\n",
        " 'Number_of_Vehicles',\n",
        " 'Number_of_Casualties',\n",
        " 'Date',\n",
        " 'Day_of_Week',\n",
        " 'Time',\n",
        " 'Local_Authority_(District)',\n",
        " 'Local_Authority_(Highway)',\n",
        " '1st_Road_Class',\n",
        " '1st_Road_Number',\n",
        " 'Road_Type',\n",
        " 'Speed_limit',\n",
        " 'Junction_Detail',\n",
        " 'Junction_Control',\n",
        " '2nd_Road_Class',\n",
        " '2nd_Road_Number',\n",
        " 'Pedestrian_Crossing-Human_Control',\n",
        " 'Pedestrian_Crossing-Physical_Facilities',\n",
        " 'Light_Conditions',\n",
        " 'Weather_Conditions',\n",
        " 'Road_Surface_Conditions',\n",
        " 'Special_Conditions_at_Site',\n",
        " 'Carriageway_Hazards',\n",
        " 'Urban_or_Rural_Area',\n",
        " 'Did_Police_Officer_Attend_Scene_of_Accident',\n",
        " 'LSOA_of_Accident_Location']"
       ]
      }
     ],
     "prompt_number": 4
    },
    {
     "cell_type": "code",
     "collapsed": false,
     "input": [
      "data['\\xef\\xbb\\xbfAccident_Index'][:5]"
     ],
     "language": "python",
     "metadata": {},
     "outputs": [
      {
       "metadata": {},
       "output_type": "pyout",
       "prompt_number": 5,
       "text": [
        "0    197901A11AD14\n",
        "1    197901A1BAW34\n",
        "2    197901A1BFD77\n",
        "3    197901A1BGC20\n",
        "4    197901A1BGF95\n",
        "Name: \ufeffAccident_Index, dtype: object"
       ]
      }
     ],
     "prompt_number": 5
    },
    {
     "cell_type": "code",
     "collapsed": false,
     "input": [
      "data_london = data[data['Police_Force'] == 1]\n",
      "print data_london[:5]"
     ],
     "language": "python",
     "metadata": {},
     "outputs": [
      {
       "output_type": "stream",
       "stream": "stdout",
       "text": [
        "  \ufeffAccident_Index  Location_Easting_OSGR  Location_Northing_OSGR  Longitude  \\\n",
        "0   197901A11AD14                    NaN                     NaN        NaN   \n",
        "1   197901A1BAW34                 198460                  894000        NaN   \n",
        "2   197901A1BFD77                 406380                  307000        NaN   \n",
        "3   197901A1BGC20                 281680                  440000        NaN   \n",
        "4   197901A1BGF95                 153960                  795000        NaN   \n",
        "\n",
        "   Latitude  Police_Force  Accident_Severity  Number_of_Vehicles  \\\n",
        "0       NaN             1                  3                   2   \n",
        "1       NaN             1                  3                   1   \n",
        "2       NaN             1                  3                   2   \n",
        "3       NaN             1                  3                   2   \n",
        "4       NaN             1                  2                   2   \n",
        "\n",
        "   Number_of_Casualties        Date     ...      \\\n",
        "0                     1  18/01/1979     ...       \n",
        "1                     1  01/01/1979     ...       \n",
        "2                     3  01/01/1979     ...       \n",
        "3                     2  01/01/1979     ...       \n",
        "4                     1  01/01/1979     ...       \n",
        "\n",
        "   Pedestrian_Crossing-Human_Control Pedestrian_Crossing-Physical_Facilities  \\\n",
        "0                                 -1                                      -1   \n",
        "1                                 -1                                      -1   \n",
        "2                                 -1                                      -1   \n",
        "3                                 -1                                      -1   \n",
        "4                                 -1                                      -1   \n",
        "\n",
        "   Light_Conditions Weather_Conditions  Road_Surface_Conditions  \\\n",
        "0                 1                  8                        1   \n",
        "1                 4                  8                        3   \n",
        "2                 4                  8                        3   \n",
        "3                 4                  8                        3   \n",
        "4                 4                  3                        3   \n",
        "\n",
        "   Special_Conditions_at_Site  Carriageway_Hazards  Urban_or_Rural_Area  \\\n",
        "0                          -1                    0                   -1   \n",
        "1                          -1                    0                   -1   \n",
        "2                          -1                    0                   -1   \n",
        "3                          -1                    0                   -1   \n",
        "4                          -1                    0                   -1   \n",
        "\n",
        "   Did_Police_Officer_Attend_Scene_of_Accident  LSOA_of_Accident_Location  \n",
        "0                                           -1                        NaN  \n",
        "1                                           -1                        NaN  \n",
        "2                                           -1                        NaN  \n",
        "3                                           -1                        NaN  \n",
        "4                                           -1                        NaN  \n",
        "\n",
        "[5 rows x 32 columns]\n"
       ]
      }
     ],
     "prompt_number": 6
    },
    {
     "cell_type": "code",
     "collapsed": false,
     "input": [
      "type(data_london['Date'][0])"
     ],
     "language": "python",
     "metadata": {},
     "outputs": [
      {
       "metadata": {},
       "output_type": "pyout",
       "prompt_number": 7,
       "text": [
        "str"
       ]
      }
     ],
     "prompt_number": 7
    },
    {
     "cell_type": "code",
     "collapsed": false,
     "input": [
      "data_london['Date'] = pd.to_datetime(data_london['Date'])"
     ],
     "language": "python",
     "metadata": {},
     "outputs": [
      {
       "output_type": "stream",
       "stream": "stderr",
       "text": [
        "-c:1: SettingWithCopyWarning: A value is trying to be set on a copy of a slice from a DataFrame.\n",
        "Try using .loc[row_index,col_indexer] = value instead\n"
       ]
      }
     ],
     "prompt_number": 8
    },
    {
     "cell_type": "code",
     "collapsed": false,
     "input": [
      "data_london['Date'][:5]"
     ],
     "language": "python",
     "metadata": {},
     "outputs": [
      {
       "metadata": {},
       "output_type": "pyout",
       "prompt_number": 9,
       "text": [
        "0   1979-01-18\n",
        "1   1979-01-01\n",
        "2   1979-01-01\n",
        "3   1979-01-01\n",
        "4   1979-01-01\n",
        "Name: Date, dtype: datetime64[ns]"
       ]
      }
     ],
     "prompt_number": 9
    },
    {
     "cell_type": "code",
     "collapsed": false,
     "input": [
      "data_london['Date'][0] > pd.to_datetime('2000-01-01')"
     ],
     "language": "python",
     "metadata": {},
     "outputs": [
      {
       "metadata": {},
       "output_type": "pyout",
       "prompt_number": 10,
       "text": [
        "False"
       ]
      }
     ],
     "prompt_number": 10
    },
    {
     "cell_type": "code",
     "collapsed": false,
     "input": [
      "data_london['Date'][0] > pd.to_datetime('1979-01-01')"
     ],
     "language": "python",
     "metadata": {},
     "outputs": [
      {
       "metadata": {},
       "output_type": "pyout",
       "prompt_number": 11,
       "text": [
        "True"
       ]
      }
     ],
     "prompt_number": 11
    },
    {
     "cell_type": "code",
     "collapsed": false,
     "input": [
      "data_london[:1]"
     ],
     "language": "python",
     "metadata": {},
     "outputs": [
      {
       "html": [
        "<div style=\"max-height:1000px;max-width:1500px;overflow:auto;\">\n",
        "<table border=\"1\" class=\"dataframe\">\n",
        "  <thead>\n",
        "    <tr style=\"text-align: right;\">\n",
        "      <th></th>\n",
        "      <th>\ufeffAccident_Index</th>\n",
        "      <th>Location_Easting_OSGR</th>\n",
        "      <th>Location_Northing_OSGR</th>\n",
        "      <th>Longitude</th>\n",
        "      <th>Latitude</th>\n",
        "      <th>Police_Force</th>\n",
        "      <th>Accident_Severity</th>\n",
        "      <th>Number_of_Vehicles</th>\n",
        "      <th>Number_of_Casualties</th>\n",
        "      <th>Date</th>\n",
        "      <th>...</th>\n",
        "      <th>Pedestrian_Crossing-Human_Control</th>\n",
        "      <th>Pedestrian_Crossing-Physical_Facilities</th>\n",
        "      <th>Light_Conditions</th>\n",
        "      <th>Weather_Conditions</th>\n",
        "      <th>Road_Surface_Conditions</th>\n",
        "      <th>Special_Conditions_at_Site</th>\n",
        "      <th>Carriageway_Hazards</th>\n",
        "      <th>Urban_or_Rural_Area</th>\n",
        "      <th>Did_Police_Officer_Attend_Scene_of_Accident</th>\n",
        "      <th>LSOA_of_Accident_Location</th>\n",
        "    </tr>\n",
        "  </thead>\n",
        "  <tbody>\n",
        "    <tr>\n",
        "      <th>0</th>\n",
        "      <td> 197901A11AD14</td>\n",
        "      <td>NaN</td>\n",
        "      <td>NaN</td>\n",
        "      <td>NaN</td>\n",
        "      <td>NaN</td>\n",
        "      <td> 1</td>\n",
        "      <td> 3</td>\n",
        "      <td> 2</td>\n",
        "      <td> 1</td>\n",
        "      <td>1979-01-18</td>\n",
        "      <td>...</td>\n",
        "      <td>-1</td>\n",
        "      <td>-1</td>\n",
        "      <td> 1</td>\n",
        "      <td> 8</td>\n",
        "      <td> 1</td>\n",
        "      <td>-1</td>\n",
        "      <td> 0</td>\n",
        "      <td>-1</td>\n",
        "      <td>-1</td>\n",
        "      <td> NaN</td>\n",
        "    </tr>\n",
        "  </tbody>\n",
        "</table>\n",
        "<p>1 rows \u00d7 32 columns</p>\n",
        "</div>"
       ],
       "metadata": {},
       "output_type": "pyout",
       "prompt_number": 12,
       "text": [
        "  \ufeffAccident_Index  Location_Easting_OSGR  Location_Northing_OSGR  Longitude  \\\n",
        "0   197901A11AD14                    NaN                     NaN        NaN   \n",
        "\n",
        "   Latitude  Police_Force  Accident_Severity  Number_of_Vehicles  \\\n",
        "0       NaN             1                  3                   2   \n",
        "\n",
        "   Number_of_Casualties       Date    ...      \\\n",
        "0                     1 1979-01-18    ...       \n",
        "\n",
        "   Pedestrian_Crossing-Human_Control Pedestrian_Crossing-Physical_Facilities  \\\n",
        "0                                 -1                                      -1   \n",
        "\n",
        "   Light_Conditions Weather_Conditions  Road_Surface_Conditions  \\\n",
        "0                 1                  8                        1   \n",
        "\n",
        "   Special_Conditions_at_Site  Carriageway_Hazards  Urban_or_Rural_Area  \\\n",
        "0                          -1                    0                   -1   \n",
        "\n",
        "   Did_Police_Officer_Attend_Scene_of_Accident  LSOA_of_Accident_Location  \n",
        "0                                           -1                        NaN  \n",
        "\n",
        "[1 rows x 32 columns]"
       ]
      }
     ],
     "prompt_number": 12
    },
    {
     "cell_type": "code",
     "collapsed": false,
     "input": [
      "#print type(data_london['Date'])\n",
      "#print data_london['Date'][0]\n",
      "data_london_new = data_london[data_london['Date'] > pd.to_datetime('2000-01-01')]\n",
      "print len(data_london_new)\n",
      "print data_london_new[:5]"
     ],
     "language": "python",
     "metadata": {},
     "outputs": [
      {
       "output_type": "stream",
       "stream": "stdout",
       "text": [
        "167598\n",
        "        \ufeffAccident_Index  Location_Easting_OSGR  Location_Northing_OSGR  \\\n",
        "5118264   2000010SU0982                 522270                  200330   \n",
        "5118265   2000010SU0983                 536010                  204970   \n",
        "5118266   2000010SU0984                 519480                  204200   \n",
        "5118267   2000010SU0985                 520760                  202280   \n",
        "5118268   2000010SU0986                 523250                  199890   \n",
        "\n",
        "         Longitude   Latitude  Police_Force  Accident_Severity  \\\n",
        "5118264  -0.232572  51.688371             1                  3   \n",
        "5118265  -0.032110  51.726908             1                  3   \n",
        "5118266  -0.271588  51.723752             1                  3   \n",
        "5118267  -0.253731  51.706222             1                  3   \n",
        "5118268  -0.218557  51.684203             1                  3   \n",
        "\n",
        "         Number_of_Vehicles  Number_of_Casualties       Date    ...      \\\n",
        "5118264                   4                     3 2000-03-21    ...       \n",
        "5118265                   2                     1 2000-09-03    ...       \n",
        "5118266                   4                     1 2000-03-23    ...       \n",
        "5118267                   3                     1 2000-03-15    ...       \n",
        "5118268                   3                     1 2000-06-03    ...       \n",
        "\n",
        "         Pedestrian_Crossing-Human_Control  \\\n",
        "5118264                                  0   \n",
        "5118265                                  0   \n",
        "5118266                                  0   \n",
        "5118267                                  0   \n",
        "5118268                                  0   \n",
        "\n",
        "        Pedestrian_Crossing-Physical_Facilities  Light_Conditions  \\\n",
        "5118264                                       0                 1   \n",
        "5118265                                       0                 1   \n",
        "5118266                                       0                 1   \n",
        "5118267                                       0                 1   \n",
        "5118268                                       0                 1   \n",
        "\n",
        "        Weather_Conditions  Road_Surface_Conditions  \\\n",
        "5118264                  1                        1   \n",
        "5118265                  1                        1   \n",
        "5118266                  1                        1   \n",
        "5118267                  1                        1   \n",
        "5118268                  1                        1   \n",
        "\n",
        "         Special_Conditions_at_Site  Carriageway_Hazards  Urban_or_Rural_Area  \\\n",
        "5118264                           0                    0                    2   \n",
        "5118265                           0                    0                    2   \n",
        "5118266                           0                    0                    2   \n",
        "5118267                           0                    0                    2   \n",
        "5118268                           0                    0                    2   \n",
        "\n",
        "         Did_Police_Officer_Attend_Scene_of_Accident  \\\n",
        "5118264                                            1   \n",
        "5118265                                            1   \n",
        "5118266                                            1   \n",
        "5118267                                            1   \n",
        "5118268                                            1   \n",
        "\n",
        "         LSOA_of_Accident_Location  \n",
        "5118264                  E01023584  \n",
        "5118265                  E01023310  \n",
        "5118266                  E01023584  \n",
        "5118267                  E01023584  \n",
        "5118268                  E01023584  \n",
        "\n",
        "[5 rows x 32 columns]\n"
       ]
      }
     ],
     "prompt_number": 13
    },
    {
     "cell_type": "code",
     "collapsed": false,
     "input": [
      "data_london_new['Time'][:5]"
     ],
     "language": "python",
     "metadata": {},
     "outputs": [
      {
       "metadata": {},
       "output_type": "pyout",
       "prompt_number": 14,
       "text": [
        "5118264    08:20\n",
        "5118265    10:25\n",
        "5118266    13:06\n",
        "5118267    08:40\n",
        "5118268    11:20\n",
        "Name: Time, dtype: object"
       ]
      }
     ],
     "prompt_number": 14
    },
    {
     "cell_type": "code",
     "collapsed": false,
     "input": [
      "print (data_london_new['Time'].iloc[1])\n",
      "print type(data_london_new['Time'].iloc[1])"
     ],
     "language": "python",
     "metadata": {},
     "outputs": [
      {
       "output_type": "stream",
       "stream": "stdout",
       "text": [
        "10:25\n",
        "<type 'str'>\n"
       ]
      }
     ],
     "prompt_number": 15
    },
    {
     "cell_type": "code",
     "collapsed": false,
     "input": [
      "pd.to_datetime(data_london['Time'].iloc[0])"
     ],
     "language": "python",
     "metadata": {},
     "outputs": [
      {
       "metadata": {},
       "output_type": "pyout",
       "prompt_number": 16,
       "text": [
        "Timestamp('2015-02-11 08:00:00')"
       ]
      }
     ],
     "prompt_number": 16
    },
    {
     "cell_type": "code",
     "collapsed": false,
     "input": [
      "data_london.iloc[0]"
     ],
     "language": "python",
     "metadata": {},
     "outputs": [
      {
       "metadata": {},
       "output_type": "pyout",
       "prompt_number": 17,
       "text": [
        "\ufeffAccident_Index                                      197901A11AD14\n",
        "Location_Easting_OSGR                                          NaN\n",
        "Location_Northing_OSGR                                         NaN\n",
        "Longitude                                                      NaN\n",
        "Latitude                                                       NaN\n",
        "Police_Force                                                     1\n",
        "Accident_Severity                                                3\n",
        "Number_of_Vehicles                                               2\n",
        "Number_of_Casualties                                             1\n",
        "Date                                           1979-01-18 00:00:00\n",
        "Day_of_Week                                                      5\n",
        "Time                                                         08:00\n",
        "Local_Authority_(District)                                      11\n",
        "Local_Authority_(Highway)                                     9999\n",
        "1st_Road_Class                                                   3\n",
        "1st_Road_Number                                                  4\n",
        "Road_Type                                                        1\n",
        "Speed_limit                                                     30\n",
        "Junction_Detail                                                  1\n",
        "Junction_Control                                                 4\n",
        "2nd_Road_Class                                                  -1\n",
        "2nd_Road_Number                                                 -1\n",
        "Pedestrian_Crossing-Human_Control                               -1\n",
        "Pedestrian_Crossing-Physical_Facilities                         -1\n",
        "Light_Conditions                                                 1\n",
        "Weather_Conditions                                               8\n",
        "Road_Surface_Conditions                                          1\n",
        "Special_Conditions_at_Site                                      -1\n",
        "Carriageway_Hazards                                              0\n",
        "Urban_or_Rural_Area                                             -1\n",
        "Did_Police_Officer_Attend_Scene_of_Accident                     -1\n",
        "LSOA_of_Accident_Location                                      NaN\n",
        "Name: 0, dtype: object"
       ]
      }
     ],
     "prompt_number": 17
    },
    {
     "cell_type": "code",
     "collapsed": false,
     "input": [
      "data_london_new2 = data_london_new[['Date', 'Time', 'Number_of_Casualties']]\n",
      "data_london_new2.head()"
     ],
     "language": "python",
     "metadata": {},
     "outputs": [
      {
       "html": [
        "<div style=\"max-height:1000px;max-width:1500px;overflow:auto;\">\n",
        "<table border=\"1\" class=\"dataframe\">\n",
        "  <thead>\n",
        "    <tr style=\"text-align: right;\">\n",
        "      <th></th>\n",
        "      <th>Date</th>\n",
        "      <th>Time</th>\n",
        "      <th>Number_of_Casualties</th>\n",
        "    </tr>\n",
        "  </thead>\n",
        "  <tbody>\n",
        "    <tr>\n",
        "      <th>5118264</th>\n",
        "      <td>2000-03-21</td>\n",
        "      <td> 08:20</td>\n",
        "      <td> 3</td>\n",
        "    </tr>\n",
        "    <tr>\n",
        "      <th>5118265</th>\n",
        "      <td>2000-09-03</td>\n",
        "      <td> 10:25</td>\n",
        "      <td> 1</td>\n",
        "    </tr>\n",
        "    <tr>\n",
        "      <th>5118266</th>\n",
        "      <td>2000-03-23</td>\n",
        "      <td> 13:06</td>\n",
        "      <td> 1</td>\n",
        "    </tr>\n",
        "    <tr>\n",
        "      <th>5118267</th>\n",
        "      <td>2000-03-15</td>\n",
        "      <td> 08:40</td>\n",
        "      <td> 1</td>\n",
        "    </tr>\n",
        "    <tr>\n",
        "      <th>5118268</th>\n",
        "      <td>2000-06-03</td>\n",
        "      <td> 11:20</td>\n",
        "      <td> 1</td>\n",
        "    </tr>\n",
        "  </tbody>\n",
        "</table>\n",
        "</div>"
       ],
       "metadata": {},
       "output_type": "pyout",
       "prompt_number": 59,
       "text": [
        "              Date   Time  Number_of_Casualties\n",
        "5118264 2000-03-21  08:20                     3\n",
        "5118265 2000-09-03  10:25                     1\n",
        "5118266 2000-03-23  13:06                     1\n",
        "5118267 2000-03-15  08:40                     1\n",
        "5118268 2000-06-03  11:20                     1"
       ]
      }
     ],
     "prompt_number": 59
    },
    {
     "cell_type": "code",
     "collapsed": false,
     "input": [
      "data_london_new2.sort('Date', inplace=True)\n",
      "#data_london_new2.set_index('Date', inplace=True)\n",
      "data_london_new2.head()"
     ],
     "language": "python",
     "metadata": {},
     "outputs": [
      {
       "output_type": "stream",
       "stream": "stderr",
       "text": [
        "C:\\st\\Anaconda\\lib\\site-packages\\pandas\\core\\frame.py:2679: SettingWithCopyWarning: A value is trying to be set on a copy of a slice from a DataFrame\n",
        "  inplace=inplace, kind=kind, na_position=na_position)\n"
       ]
      },
      {
       "html": [
        "<div style=\"max-height:1000px;max-width:1500px;overflow:auto;\">\n",
        "<table border=\"1\" class=\"dataframe\">\n",
        "  <thead>\n",
        "    <tr style=\"text-align: right;\">\n",
        "      <th></th>\n",
        "      <th>Date</th>\n",
        "      <th>Time</th>\n",
        "      <th>Number_of_Casualties</th>\n",
        "    </tr>\n",
        "  </thead>\n",
        "  <tbody>\n",
        "    <tr>\n",
        "      <th>5119933</th>\n",
        "      <td>2000-01-02</td>\n",
        "      <td> 18:15</td>\n",
        "      <td> 1</td>\n",
        "    </tr>\n",
        "    <tr>\n",
        "      <th>5123755</th>\n",
        "      <td>2000-01-02</td>\n",
        "      <td> 20:22</td>\n",
        "      <td> 1</td>\n",
        "    </tr>\n",
        "    <tr>\n",
        "      <th>5123741</th>\n",
        "      <td>2000-01-02</td>\n",
        "      <td> 08:05</td>\n",
        "      <td> 1</td>\n",
        "    </tr>\n",
        "    <tr>\n",
        "      <th>5132053</th>\n",
        "      <td>2000-01-02</td>\n",
        "      <td> 18:05</td>\n",
        "      <td> 1</td>\n",
        "    </tr>\n",
        "    <tr>\n",
        "      <th>5150304</th>\n",
        "      <td>2000-01-02</td>\n",
        "      <td> 15:30</td>\n",
        "      <td> 2</td>\n",
        "    </tr>\n",
        "  </tbody>\n",
        "</table>\n",
        "</div>"
       ],
       "metadata": {},
       "output_type": "pyout",
       "prompt_number": 60,
       "text": [
        "              Date   Time  Number_of_Casualties\n",
        "5119933 2000-01-02  18:15                     1\n",
        "5123755 2000-01-02  20:22                     1\n",
        "5123741 2000-01-02  08:05                     1\n",
        "5132053 2000-01-02  18:05                     1\n",
        "5150304 2000-01-02  15:30                     2"
       ]
      }
     ],
     "prompt_number": 60
    },
    {
     "cell_type": "code",
     "collapsed": false,
     "input": [
      "data_london_new2.sort('Time', inplace=True)\n",
      "#data_london_new2.set_index('Date', inplace=True)\n",
      "data_london_new2.head()"
     ],
     "language": "python",
     "metadata": {},
     "outputs": [
      {
       "html": [
        "<div style=\"max-height:1000px;max-width:1500px;overflow:auto;\">\n",
        "<table border=\"1\" class=\"dataframe\">\n",
        "  <thead>\n",
        "    <tr style=\"text-align: right;\">\n",
        "      <th></th>\n",
        "      <th>Date</th>\n",
        "      <th>Time</th>\n",
        "      <th>Number_of_Casualties</th>\n",
        "    </tr>\n",
        "  </thead>\n",
        "  <tbody>\n",
        "    <tr>\n",
        "      <th>5829898</th>\n",
        "      <td>2003-01-31</td>\n",
        "      <td> 00:01</td>\n",
        "      <td> 2</td>\n",
        "    </tr>\n",
        "    <tr>\n",
        "      <th>5360237</th>\n",
        "      <td>2001-11-21</td>\n",
        "      <td> 00:01</td>\n",
        "      <td> 1</td>\n",
        "    </tr>\n",
        "    <tr>\n",
        "      <th>5582938</th>\n",
        "      <td>2002-07-06</td>\n",
        "      <td> 00:01</td>\n",
        "      <td> 1</td>\n",
        "    </tr>\n",
        "    <tr>\n",
        "      <th>5132218</th>\n",
        "      <td>2000-02-28</td>\n",
        "      <td> 00:01</td>\n",
        "      <td> 1</td>\n",
        "    </tr>\n",
        "    <tr>\n",
        "      <th>5829674</th>\n",
        "      <td>2003-12-21</td>\n",
        "      <td> 00:01</td>\n",
        "      <td> 2</td>\n",
        "    </tr>\n",
        "  </tbody>\n",
        "</table>\n",
        "</div>"
       ],
       "metadata": {},
       "output_type": "pyout",
       "prompt_number": 61,
       "text": [
        "              Date   Time  Number_of_Casualties\n",
        "5829898 2003-01-31  00:01                     2\n",
        "5360237 2001-11-21  00:01                     1\n",
        "5582938 2002-07-06  00:01                     1\n",
        "5132218 2000-02-28  00:01                     1\n",
        "5829674 2003-12-21  00:01                     2"
       ]
      }
     ],
     "prompt_number": 61
    },
    {
     "cell_type": "code",
     "collapsed": false,
     "input": [
      "writer = pd.ExcelWriter('output.xlsx')\n",
      "data_london_new2.to_excel(writer,'Sheet1')\n",
      "writer.save()"
     ],
     "language": "python",
     "metadata": {},
     "outputs": [],
     "prompt_number": 63
    },
    {
     "cell_type": "code",
     "collapsed": false,
     "input": [],
     "language": "python",
     "metadata": {},
     "outputs": [],
     "prompt_number": 65
    },
    {
     "cell_type": "code",
     "collapsed": false,
     "input": [],
     "language": "python",
     "metadata": {},
     "outputs": []
    }
   ],
   "metadata": {}
  }
 ]
}