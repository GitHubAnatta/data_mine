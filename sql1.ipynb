{
 "metadata": {
  "name": "",
  "signature": "sha256:04854ad8410e0514ec2994fe7d7b1a8e6b054737fb9ced802c1701deaaa346ea"
 },
 "nbformat": 3,
 "nbformat_minor": 0,
 "worksheets": [
  {
   "cells": [
    {
     "cell_type": "code",
     "collapsed": false,
     "input": [
      "import sqlite3"
     ],
     "language": "python",
     "metadata": {},
     "outputs": [],
     "prompt_number": 10
    },
    {
     "cell_type": "code",
     "collapsed": false,
     "input": [
      "db = \"./mydb.db\"\n",
      "conn = sqlite3.connect(db)\n",
      "c = conn.cursor()"
     ],
     "language": "python",
     "metadata": {},
     "outputs": [],
     "prompt_number": 11
    },
    {
     "cell_type": "code",
     "collapsed": false,
     "input": [
      "cmd = \"CREATE TABLE my_table (Name TEXT NOT NULL,\\\n",
      "                               Age INTEGER NOT NULL)\"\n",
      "\n",
      "c.execute(cmd)"
     ],
     "language": "python",
     "metadata": {},
     "outputs": []
    },
    {
     "cell_type": "code",
     "collapsed": false,
     "input": [
      "conn.commit()\n"
     ],
     "language": "python",
     "metadata": {},
     "outputs": [],
     "prompt_number": 13
    },
    {
     "cell_type": "code",
     "collapsed": false,
     "input": [
      "cmd = \"ALTER TABLE my_table ADD COLUMN Salary INTEGER NOT NULL DEFAULT 0\"\n",
      "c.execute(cmd)\n",
      "conn.commit()"
     ],
     "language": "python",
     "metadata": {},
     "outputs": [],
     "prompt_number": 15
    },
    {
     "cell_type": "code",
     "collapsed": false,
     "input": [
      "cmd = \"INSERT INTO my_table VALUES ('Joe', 32, 5000)\"\n",
      "c.execute(cmd)\n",
      "conn.commit()"
     ],
     "language": "python",
     "metadata": {},
     "outputs": [],
     "prompt_number": 20
    },
    {
     "cell_type": "code",
     "collapsed": false,
     "input": [
      "cmd = \"INSERT INTO my_table VALUES ('{}', {}, {})\".format('Kat', 50, 7000)\n",
      "print cmd\n",
      "c.execute(cmd)\n",
      "conn.commit()"
     ],
     "language": "python",
     "metadata": {},
     "outputs": [
      {
       "output_type": "stream",
       "stream": "stdout",
       "text": [
        "INSERT INTO my_table VALUES ('Kat', 50, 7000)\n"
       ]
      }
     ],
     "prompt_number": 23
    },
    {
     "cell_type": "code",
     "collapsed": false,
     "input": [
      "names = [ \\\n",
      "         ('James', 26, 2000),\n",
      "         ('Lot', 66, 9000),\n",
      "         ('Ian', 36, 4000),\n",
      "]\n",
      "\n",
      "c.executemany(\"INSERT INTO my_table VALUES (?,?,?)\",names)\n",
      "conn.commit()\n"
     ],
     "language": "python",
     "metadata": {},
     "outputs": [],
     "prompt_number": 28
    },
    {
     "cell_type": "code",
     "collapsed": false,
     "input": [
      "conn.close()"
     ],
     "language": "python",
     "metadata": {},
     "outputs": [],
     "prompt_number": 29
    },
    {
     "cell_type": "code",
     "collapsed": false,
     "input": [
      "db = \"./mydb.db\"\n",
      "conn = sqlite3.connect(db)\n",
      "c = conn.cursor()"
     ],
     "language": "python",
     "metadata": {},
     "outputs": [],
     "prompt_number": 30
    },
    {
     "cell_type": "code",
     "collapsed": false,
     "input": [
      "c.execute(\"SELECT * from my_table where Name='Joe'\")\n",
      "result = c.fetchall()\n",
      "print result"
     ],
     "language": "python",
     "metadata": {},
     "outputs": [
      {
       "output_type": "stream",
       "stream": "stdout",
       "text": [
        "[(u'Joe', 32, 5000)]\n"
       ]
      }
     ],
     "prompt_number": 31
    },
    {
     "cell_type": "code",
     "collapsed": false,
     "input": [
      "c.execute(\"SELECT * from my_table where Age > 30\")\n",
      "result = c.fetchall()\n",
      "print result\n",
      "print result[2]"
     ],
     "language": "python",
     "metadata": {},
     "outputs": [
      {
       "output_type": "stream",
       "stream": "stdout",
       "text": [
        "[(u'Joe', 32, 5000), (u'Kat', 50, 7000), (u'Lot', 66, 9000), (u'Ian', 36, 4000)]\n",
        "(u'Lot', 66, 9000)\n"
       ]
      }
     ],
     "prompt_number": 33
    },
    {
     "cell_type": "code",
     "collapsed": false,
     "input": [
      "conn.close()"
     ],
     "language": "python",
     "metadata": {},
     "outputs": [],
     "prompt_number": 34
    },
    {
     "cell_type": "code",
     "collapsed": false,
     "input": [],
     "language": "python",
     "metadata": {},
     "outputs": []
    }
   ],
   "metadata": {}
  }
 ]
}