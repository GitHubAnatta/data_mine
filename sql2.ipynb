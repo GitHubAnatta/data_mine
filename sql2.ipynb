{
 "metadata": {
  "name": "",
  "signature": "sha256:7ce9a27bf6397faa37fe1f2892915a5002f4155b7f7ef5312467e0afc7085eb1"
 },
 "nbformat": 3,
 "nbformat_minor": 0,
 "worksheets": [
  {
   "cells": [
    {
     "cell_type": "code",
     "collapsed": false,
     "input": [
      "input_file = \"npidata_20050523-20150111.csv\""
     ],
     "language": "python",
     "metadata": {},
     "outputs": [],
     "prompt_number": 35
    },
    {
     "cell_type": "markdown",
     "metadata": {},
     "source": [
      "Method below is fast, as it won't read whole file, just read it line by line.\n",
      "This is because it uses iterators, and will only read the next part when required.\n",
      "\n",
      "Run the code below: IT will hardly take a second, which wouldnt have been possible if reading whole file."
     ]
    },
    {
     "cell_type": "code",
     "collapsed": false,
     "input": [
      "counter = 0\n",
      "with open(input_file) as infile:\n",
      "    for line in infile:\n",
      "        line = line.replace('\"', '')\n",
      "        if counter > 0:\n",
      "            print line\n",
      "            data = line.split(\",\")\n",
      "            name = data[6] + \" \" + data[7]  + \" \" + data[5]\n",
      "            business_name = data[4]\n",
      "            city = data[22]\n",
      "            state = data[23]\n",
      "            print \"name = \", name, \"\\n\"\n",
      "            print \"business_name = \" , business_name\n",
      "            print city, state\n",
      "            print \"---------------\"\n",
      "        counter += 1\n",
      "        if counter == 10:\n",
      "            break"
     ],
     "language": "python",
     "metadata": {},
     "outputs": [
      {
       "output_type": "stream",
       "stream": "stdout",
       "text": [
        "1679576722,1,,,,WIEBE,DAVID,A,,,M.D.,,,,,,,,,,PO BOX 2168,,KEARNEY,NE,688482168,US,3088652512,3088652506,3500 CENTRAL AVE,,KEARNEY,NE,688472944,US,3088652512,3088652506,05/23/2005,07/08/2007,,,,M,,,,,,207X00000X,12637,NE,Y,,,,,,,,,,,,,,,,,,,,,,,,,,,,,,,,,,,,,,,,,,,,,,,,,,,,,,,,,645540,01,KS,FIRSTGUARD,1553,01,NE,BCBS,93420WI,04,NE,,46969,01,KS,BCBS,B67599,02,,,046969WI,04,KS,,,,,,,,,,,,,,,,,,,,,,,,,,,,,,,,,,,,,,,,,,,,,,,,,,,,,,,,,,,,,,,,,,,,,,,,,,,,,,,,,,,,,,,,,,,,,,,,,,,,,,,,,,,,,,,,,,,,,,,,,,,,,,,,,,,,,,,,,,,,,,,,,,,,,,,,,,,,,,,,,,,,,,,,,,,,,,,,,,X,,,,,,,,,,,,,,,,,,,,,\n",
        "\n",
        "name =  DAVID A WIEBE \n",
        "\n",
        "business_name =  \n",
        "KEARNEY NE\n",
        "---------------\n",
        "1588667638,1,,,,PILCHER,WILLIAM,C,DR.,,MD,,,,,,,,,,1824 KING STREET,SUITE 300,JACKSONVILLE,FL,322044736,US,9043881820,9043881827,1824 KING STREET,SUITE 300,JACKSONVILLE,FL,322044736,US,9043881820,9043881827,05/23/2005,05/29/2014,,,,M,,,,,,207RC0000X,ME68414,FL,Y,207RC0000X,032024,GA,N,,,,,,,,,,,,,,,,,,,,,,,,,,,,,,,,,,,,,,,,,,,,,,,,,,,,,208143,01,FL,AVMED,06BDGPK,04,GA,,0897705,01,FL,AETNA,110123591,04,FL,RAILROAD MCARE,27888Z,04,FL,,510265,01,GA,BCBS,27888,01,FL,BCBS,C73899,02,FL,,00706626A,05,GA,,251286600,05,FL,,00532485C,05,GA,,,,,,,,,,,,,,,,,,,,,,,,,,,,,,,,,,,,,,,,,,,,,,,,,,,,,,,,,,,,,,,,,,,,,,,,,,,,,,,,,,,,,,,,,,,,,,,,,,,,,,,,,,,,,,,,,,,,,,,,,,,,,,,,,,,,,,,,,,,,,,,,,,,,,,,,,,,,,,N,,,,,,,,,,,,,,,,,,,,,\n",
        "\n",
        "name =  WILLIAM C PILCHER \n",
        "\n",
        "business_name =  \n",
        "JACKSONVILLE FL\n",
        "---------------\n",
        "1497758544,2,,<UNAVAIL>,CUMBERLAND COUNTY HOSPITAL SYSTEM, INC,,,,,,,CAPE FEAR VALLEY HOME HEALTH AND HOSPICE,3,,,,,,,,3418 VILLAGE DR,,FAYETTEVILLE,NC,283044552,US,9106096740,,3418 VILLAGE DR,,FAYETTEVILLE,NC,283044552,US,9106096740,,05/23/2005,09/26/2011,,,,,NAGOWSKI,MICHAEL,,CEO,9106096700,251G00000X,HC0283,NC,Y,,,,,,,,,,,,,,,,,,,,,,,,,,,,,,,,,,,,,,,,,,,,,,,,,,,,,,,,,3401562,05,NC,,341562,04,NC,PROVIDER NUMBER,,,,,,,,,,,,,,,,,,,,,,,,,,,,,,,,,,,,,,,,,,,,,,,,,,,,,,,,,,,,,,,,,,,,,,,,,,,,,,,,,,,,,,,,,,,,,,,,,,,,,,,,,,,,,,,,,,,,,,,,,,,,,,,,,,,,,,,,,,,,,,,,,,,,,,,,,,,,,,,,,,,,,,,,,,,,,,,,,,,,,,,,,,,,,,,,,,N,,,MR.,,,,,,,,,,,,,,,,,\n",
        "\n",
        "name =     INC \n",
        "\n",
        "business_name =  CUMBERLAND COUNTY HOSPITAL SYSTEM\n",
        " FAYETTEVILLE\n",
        "---------------\n",
        "1306849450,1,,,,SMITSON,HAROLD,LEROY,DR.,II,M.D.,,,,,,,,,,810 LUCAS DR,,ATHENS,TX,757513446,US,9036756778,9036752333,810 LUCAS DR,,ATHENS,TX,757513446,US,9036756778,9036752333,05/23/2005,01/03/2008,,,,M,,,,,,2085R0202X,E5444,TX,Y,,,,,,,,,,,,,,,,,,,,,,,,,,,,,,,,,,,,,,,,,,,,,,,,,,,,,,,,,B26530,02,TX,,83R321,08,TX,,,,,,,,,,,,,,,,,,,,,,,,,,,,,,,,,,,,,,,,,,,,,,,,,,,,,,,,,,,,,,,,,,,,,,,,,,,,,,,,,,,,,,,,,,,,,,,,,,,,,,,,,,,,,,,,,,,,,,,,,,,,,,,,,,,,,,,,,,,,,,,,,,,,,,,,,,,,,,,,,,,,,,,,,,,,,,,,,,,,,,,,,,,,,,,,,,N,,,,,,,,,,,,,,,,,,,,,\n",
        "\n",
        "name =  HAROLD LEROY SMITSON \n",
        "\n",
        "business_name =  \n",
        "ATHENS TX\n",
        "---------------\n",
        "1215930367,1,,,,GRESSOT,LAURENT,,DR.,,M.D.,,,,,,,,,,17323 RED OAK DR,,HOUSTON,TX,770901243,US,2814405006,2814406149,17323 RED OAK DR,,HOUSTON,TX,770901243,US,2814405006,2814406149,05/23/2005,11/25/2014,,,,M,,,,,,174400000X,H6257,TX,N,207RH0003X,H6257,TX,Y,,,,,,,,,,,,,,,,,,,,,,,,,,,,,,,,,,,,,,,,,,,,,,,,,,,,,E43866,02,TX,,830005153,08,TX,,0533800001,07,TX,,89G024,08,TX,,1215930367,08,TX,,,,,,,,,,,,,,,,,,,,,,,,,,,,,,,,,,,,,,,,,,,,,,,,,,,,,,,,,,,,,,,,,,,,,,,,,,,,,,,,,,,,,,,,,,,,,,,,,,,,,,,,,,,,,,,,,,,,,,,,,,,,,,,,,,,,,,,,,,,,,,,,,,,,,,,,,,,,,,,,,,,,,,,,,,,,,,,,,,,,,,N,,,,,,,,,,,,,,,,,,,,,\n",
        "\n",
        "name =  LAURENT  GRESSOT \n",
        "\n",
        "business_name =  \n",
        "HOUSTON TX\n",
        "---------------\n",
        "1023011178,2,,<UNAVAIL>,NAPA VALLEY HOSPICE & ADULT DAY SERVICES,,,,,,,,,,,,,,,,414 S JEFFERSON ST,,NAPA,CA,945594515,US,7072589080,7072582476,414 S JEFFERSON ST,,NAPA,CA,945594515,US,7072589080,7072582476,05/23/2005,10/17/2011,,,,,VOLKERTS,KEITH,REGIS,DIRECTOR OF FINANCE,7072589080,251G00000X,100000741,CA,Y,,,,,,,,,,,,,,,,,,,,,,,,,,,,,,,,,,,,,,,,,,,,,,,,,,,,,,,,,051537,04,CA,HOSPICE MEDICARE NO,HPC01537G,05,CA,,,,,,,,,,,,,,,,,,,,,,,,,,,,,,,,,,,,,,,,,,,,,,,,,,,,,,,,,,,,,,,,,,,,,,,,,,,,,,,,,,,,,,,,,,,,,,,,,,,,,,,,,,,,,,,,,,,,,,,,,,,,,,,,,,,,,,,,,,,,,,,,,,,,,,,,,,,,,,,,,,,,,,,,,,,,,,,,,,,,,,,,,,,,,,,,,,,N,,,MR.,,,,,,,,,,,,,,,,,\n",
        "\n",
        "name =     \n",
        "\n",
        "business_name =  NAPA VALLEY HOSPICE & ADULT DAY SERVICES\n",
        "NAPA CA\n",
        "---------------\n",
        "1932102084,1,,,,ADUSUMILLI,RAVI,K,,,MD,,,,,,,,,,2940 N MCCORD RD,,TOLEDO,OH,436151753,US,4198423000,4198423048,2940 N MCCORD RD,,TOLEDO,OH,436151753,US,4198423000,4198423048,05/23/2005,04/23/2012,,,,M,,,,,,207RC0000X,35069014,OH,Y,207RC0000X,4301081344,MI,N,,,,,,,,,,,,,,,,,,,,,,,,,,,,,,,,,,,,,,,,,,,,,,,,,,,,,4042622,08,OH,,4042624,08,OH,,060060579,08,OH,,P00751116,01,,RAILROAD MEDICARE,0178623,05,OH,,AD4257781,08,OH,,MI1635026,08,MI,,0792003,08,OH,,0792002,08,OH,,MI1635021,08,MI,,4042627,08,OH,,E21287,02,,,4042628,08,OH,,4042629,08,OH,,,,,,,,,,,,,,,,,,,,,,,,,,,,,,,,,,,,,,,,,,,,,,,,,,,,,,,,,,,,,,,,,,,,,,,,,,,,,,,,,,,,,,,,,,,,,,,,,,,,,,,,,,,,,,,,,,,,,,,,,,,,,,,,,,,,,,,,,,,,,,,,,,N,,,,,,,,,,,,,,,,,,,,,\n",
        "\n",
        "name =  RAVI K ADUSUMILLI \n",
        "\n",
        "business_name =  \n",
        "TOLEDO OH\n",
        "---------------\n",
        "1841293990,1,,,,WORTSMAN,SUSAN,,,,MA-CCC,,,,,,,,,,68 ROCKLEDGE RD,APT 1C,HARTSDALE,NY,105303455,US,2124814464,,425 E 25TH ST,,NEW YORK,NY,100102547,US,2124814464,,05/23/2005,07/08/2007,,,,F,,,,,,231H00000X,000396-1,NY,Y,,,,,,,,,,,,,,,,,,,,,,,,,,,,,,,,,,,,,,,,,,,,,,,,,,,,,,,,,M72081,04,NY,PROVIDER NUMBER,,,,,,,,,,,,,,,,,,,,,,,,,,,,,,,,,,,,,,,,,,,,,,,,,,,,,,,,,,,,,,,,,,,,,,,,,,,,,,,,,,,,,,,,,,,,,,,,,,,,,,,,,,,,,,,,,,,,,,,,,,,,,,,,,,,,,,,,,,,,,,,,,,,,,,,,,,,,,,,,,,,,,,,,,,,,,,,,,,,,,,,,,,,,,,,,,,,,,N,,,,,,,,,,,,,,,,,,,,,\n",
        "\n",
        "name =  SUSAN  WORTSMAN \n",
        "\n",
        "business_name =  \n",
        "HARTSDALE NY\n",
        "---------------\n",
        "1750384806,1,,,,BISBEE,ROBERT,,DR.,,MD,,,,,,,,,,5219 CITY BANK PKWY,STE 35,LUBBOCK,TX,794073545,US,8067852045,8067222908,113 WALNUT ST,,IDALOU,TX,793294003,US,8068922537,8068922726,05/23/2005,01/13/2012,,,,M,,,,,,207R00000X,J8461,TX,Y,,,,,,,,,,,,,,,,,,,,,,,,,,,,,,,,,,,,,,,,,,,,,,,,,,,,,,,,,G22052,02,TX,,,,,,,,,,,,,,,,,,,,,,,,,,,,,,,,,,,,,,,,,,,,,,,,,,,,,,,,,,,,,,,,,,,,,,,,,,,,,,,,,,,,,,,,,,,,,,,,,,,,,,,,,,,,,,,,,,,,,,,,,,,,,,,,,,,,,,,,,,,,,,,,,,,,,,,,,,,,,,,,,,,,,,,,,,,,,,,,,,,,,,,,,,,,,,,,,,,,,,N,,,,,,,,,,,,,,,,,,,,,\n",
        "\n",
        "name =  ROBERT  BISBEE \n",
        "\n",
        "business_name =  \n",
        "LUBBOCK TX\n",
        "---------------\n"
       ]
      }
     ],
     "prompt_number": 36
    },
    {
     "cell_type": "code",
     "collapsed": false,
     "input": [],
     "language": "python",
     "metadata": {},
     "outputs": [],
     "prompt_number": 36
    }
   ],
   "metadata": {}
  }
 ]
}