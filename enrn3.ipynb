{
 "metadata": {
  "name": "",
  "signature": "sha256:bb5ed463e569b6479e02e147f85f3542d9c68ec0289c43aa04079417f7bc9b9f"
 },
 "nbformat": 3,
 "nbformat_minor": 0,
 "worksheets": [
  {
   "cells": [
    {
     "cell_type": "code",
     "collapsed": false,
     "input": [
      "%cd \"C:\\Users\\eshatiw\\Desktop\\enron\\enron_mail_20110402\\maildir\"\n",
      "%pwd"
     ],
     "language": "python",
     "metadata": {},
     "outputs": [
      {
       "output_type": "stream",
       "stream": "stdout",
       "text": [
        "C:\\Users\\eshatiw\\Desktop\\enron\\enron_mail_20110402\\maildir\n"
       ]
      },
      {
       "metadata": {},
       "output_type": "pyout",
       "prompt_number": 6,
       "text": [
        "u'C:\\\\Users\\\\eshatiw\\\\Desktop\\\\enron\\\\enron_mail_20110402\\\\maildir'"
       ]
      }
     ],
     "prompt_number": 6
    },
    {
     "cell_type": "code",
     "collapsed": false,
     "input": [
      "#%cd \"C:\\Users\\eshatiw\\Documents\\IPython Notebooks\\a\"\n",
      "\n",
      "# Values will be array with 2 entries: From email number, to email number\n",
      "email_dict_to = {}\n",
      "email_dict_from = {}\n"
     ],
     "language": "python",
     "metadata": {},
     "outputs": [],
     "prompt_number": 7
    },
    {
     "cell_type": "code",
     "collapsed": false,
     "input": [
      "def find_emails(email_dict_to, email_dict_from, input_file):\n",
      "    with open(input_file, \"r\") as f:\n",
      "        b = f.read()\n",
      "    b = b.replace(\"\\t\", \"\")\n",
      "\n",
      "    b = b.replace(\"\\n\", \"\")\n",
      "    try:\n",
      "        from_email = re.search(\"From: [\\w]*([@][\\w.]*)To\", b).group(1)\n",
      "    \n",
      "        to_list = re.search(\"To: [\\w]*([@][\\w.]*)Subject\", b).group(1)\n",
      "    \n",
      "        to_list = to_list.split(\",\")\n",
      "        \n",
      "    \n",
      "        # Remove spaces at beginning. Actually work thru this, showing why Im doing this\n",
      "        to_list = [t.replace(\" \",\"\") for t in to_list]\n",
      "    except:\n",
      "        return\n",
      "        \n",
      "    \n",
      "    if from_email not in email_dict_from:\n",
      "        email_dict_from.setdefault(from_email, 1)\n",
      "    else:\n",
      "        email_dict_from[from_email] += 1\n",
      "    \n",
      "    for email in to_list:\n",
      "        if email not in email_dict_to:\n",
      "            email_dict_to.setdefault(email, 1)\n",
      "        else:\n",
      "            email_dict_to[email] += 1        \n",
      "    "
     ],
     "language": "python",
     "metadata": {},
     "outputs": [],
     "prompt_number": 8
    },
    {
     "cell_type": "code",
     "collapsed": false,
     "input": [
      "import os\n",
      "import re\n",
      "\n",
      "rootDir = '.'\n",
      "for dirName, subdirList, fileList in os.walk(rootDir):\n",
      "    for fname in fileList:\n",
      "        find_emails(email_dict_to, email_dict_from, os.path.join(dirName, fname))"
     ],
     "language": "python",
     "metadata": {},
     "outputs": [],
     "prompt_number": 9
    },
    {
     "cell_type": "code",
     "collapsed": false,
     "input": [
      "#print email_dict_to\n",
      "#print email_dict_from\n",
      "\n",
      "sorted_to = {}\n",
      "from collections import OrderedDict\n",
      "from operator import itemgetter\n",
      "sorted_to = OrderedDict(sorted(email_dict_to.items(), key=itemgetter(1), reverse=True))\n",
      "for s in sorted_to.keys()[:20]:\n",
      "    print s, sorted_to[s]"
     ],
     "language": "python",
     "metadata": {},
     "outputs": [
      {
       "output_type": "stream",
       "stream": "stdout",
       "text": [
        "@enron.com 10320\n",
        "@ect.enron.com 1869\n",
        "@carrfut.com 1259\n",
        "@caiso.com 632\n",
        "@list.intcx.com 607\n",
        "@aol.com 527\n",
        "@nyiso.com 484\n",
        "@wordsmith.org 454\n",
        "@yahoogroups.com 434\n",
        "@pira.com 387\n",
        "@svmg.org 339\n",
        "@haas.berkeley.edu 338\n",
        "@egroups.com 308\n",
        "@nisource.com 298\n",
        "@nymex.com 283\n",
        "@hotmail.com 230\n",
        "@industrialinfo.com 224\n",
        "@cera.com 158\n",
        "@isda.org 157\n",
        "@mailman.enron.com 140\n"
       ]
      }
     ],
     "prompt_number": 15
    },
    {
     "cell_type": "code",
     "collapsed": false,
     "input": [
      "sorted_from = {}\n",
      "from collections import OrderedDict\n",
      "from operator import itemgetter\n",
      "sorted_from = OrderedDict(sorted(email_dict_from.items(), key=itemgetter(1), reverse=True))\n",
      "for s in sorted_from.keys()[:20]:\n",
      "    print s, sorted_from[s]"
     ],
     "language": "python",
     "metadata": {},
     "outputs": [
      {
       "output_type": "stream",
       "stream": "stdout",
       "text": [
        "@carrfut.com 1262\n",
        "@aol.com 1088\n",
        "@caiso.com 636\n",
        "@enron.com 622\n",
        "@intcx.com 613\n",
        "@hotmail.com 528\n",
        "@nyiso.com 527\n",
        "@yahoo.com 459\n",
        "@wordsmith.org 454\n",
        "@pira.com 387\n",
        "@svmg.org 341\n",
        "@nisource.com 299\n",
        "@cheatsheets.net 286\n",
        "@nymex.com 284\n",
        "@earthlink.net 281\n",
        "@venturewire.com 270\n",
        "@industrialinfo.com 224\n",
        "@ccomad3.uu.commissioner.com 217\n",
        "@datek.com 214\n",
        "@cera.com 213\n"
       ]
      }
     ],
     "prompt_number": 16
    },
    {
     "cell_type": "code",
     "collapsed": false,
     "input": [],
     "language": "python",
     "metadata": {},
     "outputs": []
    }
   ],
   "metadata": {}
  }
 ]
}